{
 "cells": [
  {
   "cell_type": "markdown",
   "metadata": {},
   "source": [
    "Insight Project \n",
    "####Using gut microbe data to predict the risk of colorectal cancer####\n",
    "### Model selection"
   ]
  },
  {
   "cell_type": "code",
   "execution_count": 4,
   "metadata": {
    "collapsed": false
   },
   "outputs": [],
   "source": [
    "import numpy as np\n",
    "import scipy as sp\n",
    "import pandas as pd\n",
    "import statsmodels.api as sm\n",
    "import matplotlib.pyplot as plt\n",
    "#import imblearn\n",
    "from patsy import dmatrices\n",
    "from sklearn.linear_model import LogisticRegression\n",
    "from sklearn.cross_validation import train_test_split\n",
    "from sklearn import metrics\n",
    "from sklearn.cross_validation import cross_val_score"
   ]
  },
  {
   "cell_type": "code",
   "execution_count": 5,
   "metadata": {
    "collapsed": false
   },
   "outputs": [],
   "source": [
    "train_gut = pd.read_csv('train_valid.csv')"
   ]
  },
  {
   "cell_type": "code",
   "execution_count": 6,
   "metadata": {
    "collapsed": false
   },
   "outputs": [
    {
     "data": {
      "text/html": [
       "<div>\n",
       "<table border=\"1\" class=\"dataframe\">\n",
       "  <thead>\n",
       "    <tr style=\"text-align: right;\">\n",
       "      <th></th>\n",
       "      <th>Sample ID</th>\n",
       "      <th>Group</th>\n",
       "      <th>Age</th>\n",
       "      <th>Gender</th>\n",
       "      <th>BMI</th>\n",
       "      <th>FOBT</th>\n",
       "      <th>TNM Stage</th>\n",
       "      <th>AJCC Stage</th>\n",
       "      <th>Localization</th>\n",
       "      <th>SP1</th>\n",
       "      <th>...</th>\n",
       "      <th>SP18</th>\n",
       "      <th>SP19</th>\n",
       "      <th>SP20</th>\n",
       "      <th>SP21</th>\n",
       "      <th>SP22</th>\n",
       "      <th>SP23</th>\n",
       "      <th>SP24</th>\n",
       "      <th>SP25</th>\n",
       "      <th>SP26</th>\n",
       "      <th>SP27</th>\n",
       "    </tr>\n",
       "  </thead>\n",
       "  <tbody>\n",
       "    <tr>\n",
       "      <th>0</th>\n",
       "      <td>CCIS13047523ST-4-0</td>\n",
       "      <td>0</td>\n",
       "      <td>70</td>\n",
       "      <td>M</td>\n",
       "      <td>22</td>\n",
       "      <td>Negative</td>\n",
       "      <td>NaN</td>\n",
       "      <td>NaN</td>\n",
       "      <td>NaN</td>\n",
       "      <td>0.0</td>\n",
       "      <td>...</td>\n",
       "      <td>0.006372</td>\n",
       "      <td>0.000030</td>\n",
       "      <td>0.029929</td>\n",
       "      <td>0.020163</td>\n",
       "      <td>0.026813</td>\n",
       "      <td>0.000024</td>\n",
       "      <td>0.010368</td>\n",
       "      <td>0.004470</td>\n",
       "      <td>0.000048</td>\n",
       "      <td>0.005749</td>\n",
       "    </tr>\n",
       "    <tr>\n",
       "      <th>1</th>\n",
       "      <td>CCIS15794887ST-4-0</td>\n",
       "      <td>0</td>\n",
       "      <td>37</td>\n",
       "      <td>F</td>\n",
       "      <td>18</td>\n",
       "      <td>Negative</td>\n",
       "      <td>NaN</td>\n",
       "      <td>NaN</td>\n",
       "      <td>NaN</td>\n",
       "      <td>0.0</td>\n",
       "      <td>...</td>\n",
       "      <td>0.000027</td>\n",
       "      <td>0.000012</td>\n",
       "      <td>0.001646</td>\n",
       "      <td>0.004186</td>\n",
       "      <td>0.003220</td>\n",
       "      <td>0.000115</td>\n",
       "      <td>0.015902</td>\n",
       "      <td>0.000138</td>\n",
       "      <td>0.007050</td>\n",
       "      <td>0.039191</td>\n",
       "    </tr>\n",
       "    <tr>\n",
       "      <th>2</th>\n",
       "      <td>CCIS16326685ST-4-0</td>\n",
       "      <td>0</td>\n",
       "      <td>46</td>\n",
       "      <td>F</td>\n",
       "      <td>29</td>\n",
       "      <td>Negative</td>\n",
       "      <td>NaN</td>\n",
       "      <td>NaN</td>\n",
       "      <td>NaN</td>\n",
       "      <td>0.0</td>\n",
       "      <td>...</td>\n",
       "      <td>0.000221</td>\n",
       "      <td>0.000007</td>\n",
       "      <td>0.000065</td>\n",
       "      <td>0.025932</td>\n",
       "      <td>0.006403</td>\n",
       "      <td>0.000013</td>\n",
       "      <td>0.002478</td>\n",
       "      <td>0.004445</td>\n",
       "      <td>0.005865</td>\n",
       "      <td>0.000616</td>\n",
       "    </tr>\n",
       "    <tr>\n",
       "      <th>3</th>\n",
       "      <td>CCIS16383318ST-4-0</td>\n",
       "      <td>0</td>\n",
       "      <td>61</td>\n",
       "      <td>F</td>\n",
       "      <td>24</td>\n",
       "      <td>Negative</td>\n",
       "      <td>NaN</td>\n",
       "      <td>NaN</td>\n",
       "      <td>NaN</td>\n",
       "      <td>0.0</td>\n",
       "      <td>...</td>\n",
       "      <td>0.001332</td>\n",
       "      <td>0.000000</td>\n",
       "      <td>0.008234</td>\n",
       "      <td>0.001056</td>\n",
       "      <td>0.001486</td>\n",
       "      <td>0.000006</td>\n",
       "      <td>0.000030</td>\n",
       "      <td>0.004695</td>\n",
       "      <td>0.001168</td>\n",
       "      <td>0.001902</td>\n",
       "    </tr>\n",
       "    <tr>\n",
       "      <th>4</th>\n",
       "      <td>CCIS16561622ST-4-0</td>\n",
       "      <td>0</td>\n",
       "      <td>54</td>\n",
       "      <td>M</td>\n",
       "      <td>26</td>\n",
       "      <td>Negative</td>\n",
       "      <td>NaN</td>\n",
       "      <td>NaN</td>\n",
       "      <td>NaN</td>\n",
       "      <td>0.0</td>\n",
       "      <td>...</td>\n",
       "      <td>0.020315</td>\n",
       "      <td>0.000006</td>\n",
       "      <td>0.003930</td>\n",
       "      <td>0.000182</td>\n",
       "      <td>0.032794</td>\n",
       "      <td>0.000000</td>\n",
       "      <td>0.009390</td>\n",
       "      <td>0.002922</td>\n",
       "      <td>0.000025</td>\n",
       "      <td>0.006026</td>\n",
       "    </tr>\n",
       "  </tbody>\n",
       "</table>\n",
       "<p>5 rows × 36 columns</p>\n",
       "</div>"
      ],
      "text/plain": [
       "            Sample ID  Group  Age Gender  BMI      FOBT TNM Stage AJCC Stage  \\\n",
       "0  CCIS13047523ST-4-0      0   70      M   22  Negative       NaN        NaN   \n",
       "1  CCIS15794887ST-4-0      0   37      F   18  Negative       NaN        NaN   \n",
       "2  CCIS16326685ST-4-0      0   46      F   29  Negative       NaN        NaN   \n",
       "3  CCIS16383318ST-4-0      0   61      F   24  Negative       NaN        NaN   \n",
       "4  CCIS16561622ST-4-0      0   54      M   26  Negative       NaN        NaN   \n",
       "\n",
       "  Localization  SP1    ...         SP18      SP19      SP20      SP21  \\\n",
       "0          NaN  0.0    ...     0.006372  0.000030  0.029929  0.020163   \n",
       "1          NaN  0.0    ...     0.000027  0.000012  0.001646  0.004186   \n",
       "2          NaN  0.0    ...     0.000221  0.000007  0.000065  0.025932   \n",
       "3          NaN  0.0    ...     0.001332  0.000000  0.008234  0.001056   \n",
       "4          NaN  0.0    ...     0.020315  0.000006  0.003930  0.000182   \n",
       "\n",
       "       SP22      SP23      SP24      SP25      SP26      SP27  \n",
       "0  0.026813  0.000024  0.010368  0.004470  0.000048  0.005749  \n",
       "1  0.003220  0.000115  0.015902  0.000138  0.007050  0.039191  \n",
       "2  0.006403  0.000013  0.002478  0.004445  0.005865  0.000616  \n",
       "3  0.001486  0.000006  0.000030  0.004695  0.001168  0.001902  \n",
       "4  0.032794  0.000000  0.009390  0.002922  0.000025  0.006026  \n",
       "\n",
       "[5 rows x 36 columns]"
      ]
     },
     "execution_count": 6,
     "metadata": {},
     "output_type": "execute_result"
    }
   ],
   "source": [
    "train_gut.head()"
   ]
  },
  {
   "cell_type": "code",
   "execution_count": 7,
   "metadata": {
    "collapsed": false
   },
   "outputs": [
    {
     "data": {
      "text/html": [
       "<div>\n",
       "<table border=\"1\" class=\"dataframe\">\n",
       "  <thead>\n",
       "    <tr style=\"text-align: right;\">\n",
       "      <th></th>\n",
       "      <th>Group</th>\n",
       "      <th>Age</th>\n",
       "      <th>BMI</th>\n",
       "      <th>SP1</th>\n",
       "      <th>SP2</th>\n",
       "      <th>SP3</th>\n",
       "      <th>SP4</th>\n",
       "      <th>SP5</th>\n",
       "      <th>SP6</th>\n",
       "      <th>SP7</th>\n",
       "      <th>...</th>\n",
       "      <th>SP18</th>\n",
       "      <th>SP19</th>\n",
       "      <th>SP20</th>\n",
       "      <th>SP21</th>\n",
       "      <th>SP22</th>\n",
       "      <th>SP23</th>\n",
       "      <th>SP24</th>\n",
       "      <th>SP25</th>\n",
       "      <th>SP26</th>\n",
       "      <th>SP27</th>\n",
       "    </tr>\n",
       "  </thead>\n",
       "  <tbody>\n",
       "    <tr>\n",
       "      <th>count</th>\n",
       "      <td>114.000000</td>\n",
       "      <td>114.000000</td>\n",
       "      <td>114.000000</td>\n",
       "      <td>114.000000</td>\n",
       "      <td>114.000000</td>\n",
       "      <td>114.000000</td>\n",
       "      <td>114.000000</td>\n",
       "      <td>114.000000</td>\n",
       "      <td>114.000000</td>\n",
       "      <td>114.000000</td>\n",
       "      <td>...</td>\n",
       "      <td>114.000000</td>\n",
       "      <td>114.000000</td>\n",
       "      <td>114.000000</td>\n",
       "      <td>114.000000</td>\n",
       "      <td>114.000000</td>\n",
       "      <td>114.000000</td>\n",
       "      <td>114.000000</td>\n",
       "      <td>114.000000</td>\n",
       "      <td>114.000000</td>\n",
       "      <td>114.000000</td>\n",
       "    </tr>\n",
       "    <tr>\n",
       "      <th>mean</th>\n",
       "      <td>0.377193</td>\n",
       "      <td>63.508772</td>\n",
       "      <td>25.385965</td>\n",
       "      <td>0.000028</td>\n",
       "      <td>0.000021</td>\n",
       "      <td>0.000581</td>\n",
       "      <td>0.000093</td>\n",
       "      <td>0.000241</td>\n",
       "      <td>0.000052</td>\n",
       "      <td>0.002281</td>\n",
       "      <td>...</td>\n",
       "      <td>0.007961</td>\n",
       "      <td>0.009511</td>\n",
       "      <td>0.007772</td>\n",
       "      <td>0.007448</td>\n",
       "      <td>0.007796</td>\n",
       "      <td>0.009305</td>\n",
       "      <td>0.007839</td>\n",
       "      <td>0.006755</td>\n",
       "      <td>0.007736</td>\n",
       "      <td>0.007238</td>\n",
       "    </tr>\n",
       "    <tr>\n",
       "      <th>std</th>\n",
       "      <td>0.486824</td>\n",
       "      <td>9.999332</td>\n",
       "      <td>4.431402</td>\n",
       "      <td>0.000119</td>\n",
       "      <td>0.000104</td>\n",
       "      <td>0.003289</td>\n",
       "      <td>0.000527</td>\n",
       "      <td>0.000651</td>\n",
       "      <td>0.000481</td>\n",
       "      <td>0.004491</td>\n",
       "      <td>...</td>\n",
       "      <td>0.009532</td>\n",
       "      <td>0.023526</td>\n",
       "      <td>0.012382</td>\n",
       "      <td>0.008936</td>\n",
       "      <td>0.010142</td>\n",
       "      <td>0.028659</td>\n",
       "      <td>0.014466</td>\n",
       "      <td>0.012400</td>\n",
       "      <td>0.027111</td>\n",
       "      <td>0.011009</td>\n",
       "    </tr>\n",
       "    <tr>\n",
       "      <th>min</th>\n",
       "      <td>0.000000</td>\n",
       "      <td>37.000000</td>\n",
       "      <td>15.000000</td>\n",
       "      <td>0.000000</td>\n",
       "      <td>0.000000</td>\n",
       "      <td>0.000000</td>\n",
       "      <td>0.000000</td>\n",
       "      <td>0.000000</td>\n",
       "      <td>0.000000</td>\n",
       "      <td>0.000000</td>\n",
       "      <td>...</td>\n",
       "      <td>0.000000</td>\n",
       "      <td>0.000000</td>\n",
       "      <td>0.000000</td>\n",
       "      <td>0.000009</td>\n",
       "      <td>0.000000</td>\n",
       "      <td>0.000000</td>\n",
       "      <td>0.000000</td>\n",
       "      <td>0.000002</td>\n",
       "      <td>0.000000</td>\n",
       "      <td>0.000006</td>\n",
       "    </tr>\n",
       "    <tr>\n",
       "      <th>25%</th>\n",
       "      <td>0.000000</td>\n",
       "      <td>58.250000</td>\n",
       "      <td>23.000000</td>\n",
       "      <td>0.000000</td>\n",
       "      <td>0.000000</td>\n",
       "      <td>0.000000</td>\n",
       "      <td>0.000000</td>\n",
       "      <td>0.000000</td>\n",
       "      <td>0.000000</td>\n",
       "      <td>0.000000</td>\n",
       "      <td>...</td>\n",
       "      <td>0.000435</td>\n",
       "      <td>0.000009</td>\n",
       "      <td>0.001089</td>\n",
       "      <td>0.001059</td>\n",
       "      <td>0.000123</td>\n",
       "      <td>0.000000</td>\n",
       "      <td>0.000263</td>\n",
       "      <td>0.000530</td>\n",
       "      <td>0.000147</td>\n",
       "      <td>0.000746</td>\n",
       "    </tr>\n",
       "    <tr>\n",
       "      <th>50%</th>\n",
       "      <td>0.000000</td>\n",
       "      <td>64.000000</td>\n",
       "      <td>25.000000</td>\n",
       "      <td>0.000000</td>\n",
       "      <td>0.000000</td>\n",
       "      <td>0.000006</td>\n",
       "      <td>0.000000</td>\n",
       "      <td>0.000008</td>\n",
       "      <td>0.000000</td>\n",
       "      <td>0.000003</td>\n",
       "      <td>...</td>\n",
       "      <td>0.003736</td>\n",
       "      <td>0.000229</td>\n",
       "      <td>0.003640</td>\n",
       "      <td>0.004342</td>\n",
       "      <td>0.003436</td>\n",
       "      <td>0.000009</td>\n",
       "      <td>0.001979</td>\n",
       "      <td>0.002014</td>\n",
       "      <td>0.001137</td>\n",
       "      <td>0.002462</td>\n",
       "    </tr>\n",
       "    <tr>\n",
       "      <th>75%</th>\n",
       "      <td>1.000000</td>\n",
       "      <td>69.000000</td>\n",
       "      <td>27.000000</td>\n",
       "      <td>0.000000</td>\n",
       "      <td>0.000000</td>\n",
       "      <td>0.000034</td>\n",
       "      <td>0.000000</td>\n",
       "      <td>0.000071</td>\n",
       "      <td>0.000000</td>\n",
       "      <td>0.002743</td>\n",
       "      <td>...</td>\n",
       "      <td>0.011796</td>\n",
       "      <td>0.009307</td>\n",
       "      <td>0.008000</td>\n",
       "      <td>0.011397</td>\n",
       "      <td>0.011433</td>\n",
       "      <td>0.000163</td>\n",
       "      <td>0.009359</td>\n",
       "      <td>0.006042</td>\n",
       "      <td>0.005722</td>\n",
       "      <td>0.009262</td>\n",
       "    </tr>\n",
       "    <tr>\n",
       "      <th>max</th>\n",
       "      <td>1.000000</td>\n",
       "      <td>87.000000</td>\n",
       "      <td>40.000000</td>\n",
       "      <td>0.000962</td>\n",
       "      <td>0.000941</td>\n",
       "      <td>0.033491</td>\n",
       "      <td>0.004423</td>\n",
       "      <td>0.004155</td>\n",
       "      <td>0.005134</td>\n",
       "      <td>0.026263</td>\n",
       "      <td>...</td>\n",
       "      <td>0.038265</td>\n",
       "      <td>0.164007</td>\n",
       "      <td>0.076120</td>\n",
       "      <td>0.057535</td>\n",
       "      <td>0.049022</td>\n",
       "      <td>0.160080</td>\n",
       "      <td>0.100526</td>\n",
       "      <td>0.072686</td>\n",
       "      <td>0.266171</td>\n",
       "      <td>0.072293</td>\n",
       "    </tr>\n",
       "  </tbody>\n",
       "</table>\n",
       "<p>8 rows × 30 columns</p>\n",
       "</div>"
      ],
      "text/plain": [
       "            Group         Age         BMI         SP1         SP2         SP3  \\\n",
       "count  114.000000  114.000000  114.000000  114.000000  114.000000  114.000000   \n",
       "mean     0.377193   63.508772   25.385965    0.000028    0.000021    0.000581   \n",
       "std      0.486824    9.999332    4.431402    0.000119    0.000104    0.003289   \n",
       "min      0.000000   37.000000   15.000000    0.000000    0.000000    0.000000   \n",
       "25%      0.000000   58.250000   23.000000    0.000000    0.000000    0.000000   \n",
       "50%      0.000000   64.000000   25.000000    0.000000    0.000000    0.000006   \n",
       "75%      1.000000   69.000000   27.000000    0.000000    0.000000    0.000034   \n",
       "max      1.000000   87.000000   40.000000    0.000962    0.000941    0.033491   \n",
       "\n",
       "              SP4         SP5         SP6         SP7     ...            SP18  \\\n",
       "count  114.000000  114.000000  114.000000  114.000000     ...      114.000000   \n",
       "mean     0.000093    0.000241    0.000052    0.002281     ...        0.007961   \n",
       "std      0.000527    0.000651    0.000481    0.004491     ...        0.009532   \n",
       "min      0.000000    0.000000    0.000000    0.000000     ...        0.000000   \n",
       "25%      0.000000    0.000000    0.000000    0.000000     ...        0.000435   \n",
       "50%      0.000000    0.000008    0.000000    0.000003     ...        0.003736   \n",
       "75%      0.000000    0.000071    0.000000    0.002743     ...        0.011796   \n",
       "max      0.004423    0.004155    0.005134    0.026263     ...        0.038265   \n",
       "\n",
       "             SP19        SP20        SP21        SP22        SP23        SP24  \\\n",
       "count  114.000000  114.000000  114.000000  114.000000  114.000000  114.000000   \n",
       "mean     0.009511    0.007772    0.007448    0.007796    0.009305    0.007839   \n",
       "std      0.023526    0.012382    0.008936    0.010142    0.028659    0.014466   \n",
       "min      0.000000    0.000000    0.000009    0.000000    0.000000    0.000000   \n",
       "25%      0.000009    0.001089    0.001059    0.000123    0.000000    0.000263   \n",
       "50%      0.000229    0.003640    0.004342    0.003436    0.000009    0.001979   \n",
       "75%      0.009307    0.008000    0.011397    0.011433    0.000163    0.009359   \n",
       "max      0.164007    0.076120    0.057535    0.049022    0.160080    0.100526   \n",
       "\n",
       "             SP25        SP26        SP27  \n",
       "count  114.000000  114.000000  114.000000  \n",
       "mean     0.006755    0.007736    0.007238  \n",
       "std      0.012400    0.027111    0.011009  \n",
       "min      0.000002    0.000000    0.000006  \n",
       "25%      0.000530    0.000147    0.000746  \n",
       "50%      0.002014    0.001137    0.002462  \n",
       "75%      0.006042    0.005722    0.009262  \n",
       "max      0.072686    0.266171    0.072293  \n",
       "\n",
       "[8 rows x 30 columns]"
      ]
     },
     "execution_count": 7,
     "metadata": {},
     "output_type": "execute_result"
    }
   ],
   "source": [
    "train_gut.describe()"
   ]
  },
  {
   "cell_type": "code",
   "execution_count": 8,
   "metadata": {
    "collapsed": false
   },
   "outputs": [
    {
     "data": {
      "text/plain": [
       "0    71\n",
       "1    43\n",
       "Name: Group, dtype: int64"
      ]
     },
     "execution_count": 8,
     "metadata": {},
     "output_type": "execute_result"
    }
   ],
   "source": [
    "train_gut.Group.value_counts()"
   ]
  },
  {
   "cell_type": "code",
   "execution_count": 9,
   "metadata": {
    "collapsed": false
   },
   "outputs": [],
   "source": [
    "%matplotlib inline "
   ]
  },
  {
   "cell_type": "code",
   "execution_count": 10,
   "metadata": {
    "collapsed": false
   },
   "outputs": [
    {
     "data": {
      "image/png": "[encoded data removed]",
      "text/plain": [
       "<matplotlib.figure.Figure at 0x116ab0610>"
      ]
     },
     "metadata": {},
     "output_type": "display_data"
    }
   ],
   "source": [
    "bins = np.linspace(train_gut.Age.min(),train_gut.Age.max(),11)\n",
    "ax = train_gut[train_gut['Group']==1.0].Age.plot.hist(bins, alpha=0.75, label='CRC', color='red', normed=True)\n",
    "ax2 = train_gut[train_gut['Group']==0.0].Age.plot.hist(bins,alpha=0.75, label='Control', color='green', normed=True)"
   ]
  },
  {
   "cell_type": "code",
   "execution_count": 13,
   "metadata": {
    "collapsed": false
   },
   "outputs": [
    {
     "data": {
      "image/png": "[encoded data removed]",
      "text/plain": [
       "<matplotlib.figure.Figure at 0x119b5d2d0>"
      ]
     },
     "metadata": {},
     "output_type": "display_data"
    }
   ],
   "source": [
    "bins = np.linspace(train_gut.BMI.min(),train_gut.BMI.max(),11)\n",
    "ax = train_gut[train_gut['Group']==1.0].BMI.plot.hist(bins, alpha=0.75, label='CRC', color='red', normed=True)\n",
    "ax2 = train_gut[train_gut['Group']==0.0].BMI.plot.hist(bins,alpha=0.75, label='Control', color='green', normed=True)"
   ]
  },
  {
   "cell_type": "code",
   "execution_count": null,
   "metadata": {
    "collapsed": true
   },
   "outputs": [],
   "source": []
  },
  {
   "cell_type": "code",
   "execution_count": 14,
   "metadata": {
    "collapsed": false
   },
   "outputs": [],
   "source": [
    "### Use cross validation strategy, small size of the data\n",
    "### Test data locked in a vault\n",
    "from sklearn import cross_validation, linear_model\n",
    "\n",
    "X = train_gut[['SP1','SP2','SP3','SP4','SP5','SP6','SP7','SP8','SP9','SP10','SP11','SP12','SP13','SP14','SP15','SP16','SP17','SP18','SP19','SP20','SP21','SP22','SP23','SP24','SP25','SP26','SP27']].values\n",
    "y = train_gut['Group'].values"
   ]
  },
  {
   "cell_type": "code",
   "execution_count": 15,
   "metadata": {
    "collapsed": false
   },
   "outputs": [
    {
     "data": {
      "text/plain": [
       "array([0, 0, 0, 0, 0, 0, 0, 0, 0, 0, 0, 0, 0, 0, 0, 0, 0, 0, 0, 0, 0, 0, 0,\n",
       "       0, 0, 0, 0, 0, 0, 0, 0, 0, 0, 0, 0, 0, 0, 0, 0, 0, 0, 0, 0, 0, 0, 0,\n",
       "       0, 0, 0, 0, 0, 0, 0, 0, 0, 0, 0, 0, 0, 0, 0, 0, 0, 0, 0, 0, 0, 0, 0,\n",
       "       0, 0, 1, 1, 1, 1, 1, 1, 1, 1, 1, 1, 1, 1, 1, 1, 1, 1, 1, 1, 1, 1, 1,\n",
       "       1, 1, 1, 1, 1, 1, 1, 1, 1, 1, 1, 1, 1, 1, 1, 1, 1, 1, 1, 1, 1, 1])"
      ]
     },
     "execution_count": 15,
     "metadata": {},
     "output_type": "execute_result"
    }
   ],
   "source": [
    "y"
   ]
  },
  {
   "cell_type": "code",
   "execution_count": 16,
   "metadata": {
    "collapsed": false
   },
   "outputs": [
    {
     "data": {
      "text/plain": [
       "array([[  0.00000000e+00,   0.00000000e+00,   8.11000000e-06, ...,\n",
       "          4.46994900e-03,   4.81000000e-05,   5.74893300e-03],\n",
       "       [  0.00000000e+00,   0.00000000e+00,   1.68000000e-05, ...,\n",
       "          1.37683000e-04,   7.05003000e-03,   3.91914560e-02],\n",
       "       [  0.00000000e+00,   0.00000000e+00,   0.00000000e+00, ...,\n",
       "          4.44523600e-03,   5.86532600e-03,   6.16055000e-04],\n",
       "       ..., \n",
       "       [  0.00000000e+00,   0.00000000e+00,   0.00000000e+00, ...,\n",
       "          1.75464000e-04,   1.07815400e-03,   2.06099300e-03],\n",
       "       [  4.54000000e-05,   6.12000000e-05,   1.59000000e-05, ...,\n",
       "          9.37964000e-04,   0.00000000e+00,   1.28744850e-02],\n",
       "       [  0.00000000e+00,   0.00000000e+00,   3.48000000e-05, ...,\n",
       "          2.15162800e-03,   1.12671510e-02,   1.17237300e-03]])"
      ]
     },
     "execution_count": 16,
     "metadata": {},
     "output_type": "execute_result"
    }
   ],
   "source": [
    "X"
   ]
  },
  {
   "cell_type": "code",
   "execution_count": 12,
   "metadata": {
    "collapsed": false
   },
   "outputs": [
    {
     "ename": "NameError",
     "evalue": "name 'cross_validation' is not defined",
     "output_type": "error",
     "traceback": [
      "\u001b[0;31m---------------------------------------------------------------------------\u001b[0m",
      "\u001b[0;31mNameError\u001b[0m                                 Traceback (most recent call last)",
      "\u001b[0;32m<ipython-input-12-d6e935ddb736>\u001b[0m in \u001b[0;36m<module>\u001b[0;34m()\u001b[0m\n\u001b[0;32m----> 1\u001b[0;31m \u001b[0mcv\u001b[0m \u001b[0;34m=\u001b[0m \u001b[0mcross_validation\u001b[0m\u001b[0;34m.\u001b[0m\u001b[0mShuffleSplit\u001b[0m\u001b[0;34m(\u001b[0m\u001b[0mlen\u001b[0m\u001b[0;34m(\u001b[0m\u001b[0my\u001b[0m\u001b[0;34m)\u001b[0m\u001b[0;34m,\u001b[0m \u001b[0mn_iter\u001b[0m\u001b[0;34m=\u001b[0m\u001b[0;36m5\u001b[0m\u001b[0;34m,\u001b[0m\u001b[0mtest_size\u001b[0m\u001b[0;34m=\u001b[0m\u001b[0;36m0.3\u001b[0m\u001b[0;34m)\u001b[0m\u001b[0;34m\u001b[0m\u001b[0m\n\u001b[0m\u001b[1;32m      2\u001b[0m \u001b[0;31m## Set up the cross validation\u001b[0m\u001b[0;34m\u001b[0m\u001b[0;34m\u001b[0m\u001b[0m\n",
      "\u001b[0;31mNameError\u001b[0m: name 'cross_validation' is not defined"
     ]
    }
   ],
   "source": [
    "cv = cross_validation.ShuffleSplit(len(y), n_iter=5,test_size=0.3)\n",
    "## Set up the cross validation"
   ]
  },
  {
   "cell_type": "code",
   "execution_count": 180,
   "metadata": {
    "collapsed": false
   },
   "outputs": [],
   "source": [
    "logistic = linear_model.LogisticRegression()\n",
    "scores_logistic = cross_validation.cross_val_score(logistic,X, y, cv=cv)"
   ]
  },
  {
   "cell_type": "code",
   "execution_count": 189,
   "metadata": {
    "collapsed": false
   },
   "outputs": [
    {
     "data": {
      "text/plain": [
       "(0.59999999999999998, 0.10536622236906157)"
      ]
     },
     "execution_count": 189,
     "metadata": {},
     "output_type": "execute_result"
    }
   ],
   "source": [
    "scores_logistic.mean(), scores_logistic.std()\n",
    "#0.59, 0.11#"
   ]
  },
  {
   "cell_type": "code",
   "execution_count": 192,
   "metadata": {
    "collapsed": false
   },
   "outputs": [],
   "source": [
    "## Now we try to use only SP1-SP10 to do the logistics regression\n",
    "X2 = train_gut[['SP1','SP2','SP3','SP4','SP5','SP6','SP7','SP8','SP9','SP10']].values\n",
    "y = train_gut['Group'].values"
   ]
  },
  {
   "cell_type": "code",
   "execution_count": 241,
   "metadata": {
    "collapsed": false
   },
   "outputs": [
    {
     "data": {
      "text/plain": [
       "(0.62857142857142856, 0.036140316116210061)"
      ]
     },
     "execution_count": 241,
     "metadata": {},
     "output_type": "execute_result"
    }
   ],
   "source": [
    "cv = cross_validation.ShuffleSplit(len(y), n_iter=5,test_size=0.3)\n",
    "logistic = linear_model.LogisticRegression()\n",
    "scores_logistic = cross_validation.cross_val_score(logistic,X2, y, cv=cv)\n",
    "scores_logistic.mean(), scores_logistic.std()\n",
    "#0.69, 0.06#\n",
    "####Only use SP1 to SP10 as features.\n",
    "####The most successful so far\n",
    "####X2 seems to be the best combination of informative features"
   ]
  },
  {
   "cell_type": "code",
   "execution_count": 244,
   "metadata": {
    "collapsed": true
   },
   "outputs": [],
   "source": [
    "## Now we try to build in meta data columns as features to do the logistics regression\n",
    "## In this run, X3, I included BMI and FOBT, FOBT is a standardized stool blood test for CRC\n",
    "X3 = train_gut[['BMI','SP1','SP2','SP3','SP4','SP5','SP6','SP7','SP8','SP9','SP10']]\n",
    "y = train_gut['Group'].values\n",
    "###!!!X3 not working\n",
    "###Imputated BMI missing data with means"
   ]
  },
  {
   "cell_type": "code",
   "execution_count": 280,
   "metadata": {
    "collapsed": false
   },
   "outputs": [
    {
     "data": {
      "text/plain": [
       "(0.6399999999999999, 0.038756171332144401)"
      ]
     },
     "execution_count": 280,
     "metadata": {},
     "output_type": "execute_result"
    }
   ],
   "source": [
    "logistic = linear_model.LogisticRegression()\n",
    "scores_logistic = cross_validation.cross_val_score(logistic,X3, y, cv=cv)\n",
    "scores_logistic.mean(), scores_logistic.std()\n",
    "#0.64 0.04#\n",
    "#### X3 is not working ###"
   ]
  },
  {
   "cell_type": "code",
   "execution_count": 311,
   "metadata": {
    "collapsed": false
   },
   "outputs": [
    {
     "data": {
      "text/plain": [
       "(0.66857142857142859, 0.077932466839919196)"
      ]
     },
     "execution_count": 311,
     "metadata": {},
     "output_type": "execute_result"
    }
   ],
   "source": [
    "## Now we try Linear SVC on X2, with the Cross Validation\n",
    "## Linear SVC is no better than Logistics Regression\n",
    "import numpy as np\n",
    "from sklearn import svm\n",
    "from sklearn.svm import SVC\n",
    "from sklearn.svm import LinearSVC\n",
    "\n",
    "C=1.0\n",
    "linSVC = svm.LinearSVC(C=C).fit(X2, y)\n",
    "\n",
    "\n",
    "scores_linSVC = cross_validation.cross_val_score(linSVC,X2, y, cv=cv)\n",
    "scores_linSVC.mean(), scores_linSVC.std()\n",
    "\n",
    "#0.67, 0.08#"
   ]
  },
  {
   "cell_type": "code",
   "execution_count": 330,
   "metadata": {
    "collapsed": false
   },
   "outputs": [
    {
     "data": {
      "text/plain": [
       "(0.69714285714285718, 0.075808566636694871)"
      ]
     },
     "execution_count": 330,
     "metadata": {},
     "output_type": "execute_result"
    }
   ],
   "source": [
    "## Try Nearest Neighbors with X2 ##\n",
    "## Nearest neighbors classifier -> KNeighbors Classifier\n",
    "from sklearn.neighbors import KNeighborsClassifier\n",
    "neigh = KNeighborsClassifier(n_neighbors=5)\n",
    "Neigh = neigh.fit(X2, y) \n",
    "\n",
    "scores_Neigh = cross_validation.cross_val_score(Neigh,X2, y, cv=cv)\n",
    "scores_Neigh.mean(), scores_Neigh.std()\n",
    "\n",
    "#0.69, 0.08#"
   ]
  },
  {
   "cell_type": "code",
   "execution_count": 3,
   "metadata": {
    "collapsed": false
   },
   "outputs": [
    {
     "ename": "NameError",
     "evalue": "name 'X2' is not defined",
     "output_type": "error",
     "traceback": [
      "\u001b[0;31m---------------------------------------------------------------------------\u001b[0m",
      "\u001b[0;31mNameError\u001b[0m                                 Traceback (most recent call last)",
      "\u001b[0;32m<ipython-input-3-6718e620e346>\u001b[0m in \u001b[0;36m<module>\u001b[0;34m()\u001b[0m\n\u001b[1;32m      3\u001b[0m \u001b[0;34m\u001b[0m\u001b[0m\n\u001b[1;32m      4\u001b[0m \u001b[0mrf\u001b[0m \u001b[0;34m=\u001b[0m \u001b[0mRandomForestClassifier\u001b[0m\u001b[0;34m(\u001b[0m\u001b[0mmax_depth\u001b[0m\u001b[0;34m=\u001b[0m\u001b[0;36m5\u001b[0m\u001b[0;34m,\u001b[0m \u001b[0mn_estimators\u001b[0m\u001b[0;34m=\u001b[0m\u001b[0;36m10\u001b[0m\u001b[0;34m,\u001b[0m \u001b[0mmax_features\u001b[0m\u001b[0;34m=\u001b[0m\u001b[0;36m1\u001b[0m\u001b[0;34m)\u001b[0m\u001b[0;34m\u001b[0m\u001b[0m\n\u001b[0;32m----> 5\u001b[0;31m \u001b[0mRF\u001b[0m \u001b[0;34m=\u001b[0m \u001b[0mrf\u001b[0m\u001b[0;34m.\u001b[0m\u001b[0mfit\u001b[0m\u001b[0;34m(\u001b[0m\u001b[0mX2\u001b[0m\u001b[0;34m,\u001b[0m \u001b[0my\u001b[0m\u001b[0;34m)\u001b[0m\u001b[0;34m\u001b[0m\u001b[0m\n\u001b[0m\u001b[1;32m      6\u001b[0m \u001b[0;34m\u001b[0m\u001b[0m\n\u001b[1;32m      7\u001b[0m \u001b[0mscores_RF\u001b[0m \u001b[0;34m=\u001b[0m \u001b[0mcross_validation\u001b[0m\u001b[0;34m.\u001b[0m\u001b[0mcross_val_score\u001b[0m\u001b[0;34m(\u001b[0m\u001b[0mRF\u001b[0m\u001b[0;34m,\u001b[0m\u001b[0mX2\u001b[0m\u001b[0;34m,\u001b[0m \u001b[0my\u001b[0m\u001b[0;34m,\u001b[0m \u001b[0mcv\u001b[0m\u001b[0;34m=\u001b[0m\u001b[0mcv\u001b[0m\u001b[0;34m)\u001b[0m\u001b[0;34m\u001b[0m\u001b[0m\n",
      "\u001b[0;31mNameError\u001b[0m: name 'X2' is not defined"
     ]
    }
   ],
   "source": [
    "## Try random forest with X2 ##\n",
    "from sklearn.ensemble import RandomForestClassifier, AdaBoostClassifier\n",
    "rf = RandomForestClassifier(max_depth=5, n_estimators=10, max_features=1)\n",
    "RF = rf.fit(X2, y)\n",
    "\n",
    "scores_RF = cross_validation.cross_val_score(RF,X2, y, cv=cv)\n",
    "scores_RF.mean(), scores_RF.std()\n",
    "\n",
    "## Definately use RANDOM FOREST ##\n",
    "#0.80, 0.04#\n",
    "#pickle  cPickle"
   ]
  },
  {
   "cell_type": "code",
   "execution_count": 2,
   "metadata": {
    "collapsed": false
   },
   "outputs": [
    {
     "ename": "NameError",
     "evalue": "name 'scores_RF' is not defined",
     "output_type": "error",
     "traceback": [
      "\u001b[0;31m---------------------------------------------------------------------------\u001b[0m",
      "\u001b[0;31mNameError\u001b[0m                                 Traceback (most recent call last)",
      "\u001b[0;32m<ipython-input-2-a2df0bf04631>\u001b[0m in \u001b[0;36m<module>\u001b[0;34m()\u001b[0m\n\u001b[0;32m----> 1\u001b[0;31m \u001b[0mscores_RF\u001b[0m\u001b[0;34m\u001b[0m\u001b[0m\n\u001b[0m",
      "\u001b[0;31mNameError\u001b[0m: name 'scores_RF' is not defined"
     ]
    }
   ],
   "source": [
    "scores_RF"
   ]
  },
  {
   "cell_type": "code",
   "execution_count": 390,
   "metadata": {
    "collapsed": false
   },
   "outputs": [
    {
     "name": "stdout",
     "output_type": "stream",
     "text": [
      "Automatically created module for IPython interactive environment\n"
     ]
    },
    {
     "data": {
      "image/png": "[encoded data removed]",
      "text/plain": [
       "<matplotlib.figure.Figure at 0x10b584510>"
      ]
     },
     "metadata": {},
     "output_type": "display_data"
    },
    {
     "data": {
      "image/png": "[encoded data removed]",
      "text/plain": [
       "<matplotlib.figure.Figure at 0x11bf46950>"
      ]
     },
     "metadata": {},
     "output_type": "display_data"
    }
   ],
   "source": [
    "## Use PCA to plot my data ##\n",
    "## incremental PCA\n",
    "\n",
    "### The color differentiation for 0 and 1 did not really work\n",
    "print(__doc__)\n",
    "import numpy as np\n",
    "import matplotlib.pyplot as plt\n",
    "from sklearn.decomposition import PCA, IncrementalPCA\n",
    "\n",
    "n_components = 2\n",
    "ipca = IncrementalPCA(n_components=n_components, batch_size=10)\n",
    "X_ipca = ipca.fit_transform(X2)\n",
    "\n",
    "pca = PCA(n_components=n_components)\n",
    "X_pca = pca.fit_transform(X2)\n",
    "\n",
    "colors = ['navy', 'darkorange']\n",
    "\n",
    "for X_transformed, title in [(X_ipca, \"Incremental PCA\"), (X_pca, \"PCA\")]:\n",
    "    plt.figure(figsize=(8, 8))\n",
    "    for color, i, target_name in zip(colors, [0, 1], y):\n",
    "        plt.scatter(X_transformed[y == i, 0], X_transformed[y == i, 1],\n",
    "                    color=color, lw=2, label=target_name)\n",
    "\n",
    "    if \"Incremental\" in title:\n",
    "        err = np.abs(np.abs(X_pca) - np.abs(X_ipca)).mean()\n",
    "        plt.title(title + \" of iris dataset\\nMean absolute unsigned error \"\n",
    "                  \"%.6f\" % err)\n",
    "    else:\n",
    "        plt.title(title + \" of iris dataset\")\n",
    "    plt.legend(loc=\"best\", shadow=False, scatterpoints=1)\n",
    "    plt.axis([-1, 1, -0.15, 0.15])\n",
    "\n",
    "plt.show()"
   ]
  }
 ],
 "metadata": {
  "anaconda-cloud": {},
  "kernelspec": {
   "display_name": "Python [conda root]",
   "language": "python",
   "name": "conda-root-py"
  },
  "language_info": {
   "codemirror_mode": {
    "name": "ipython",
    "version": 2
   },
   "file_extension": ".py",
   "mimetype": "text/x-python",
   "name": "python",
   "nbconvert_exporter": "python",
   "pygments_lexer": "ipython2",
   "version": "2.7.13"
  }
 },
 "nbformat": 4,
 "nbformat_minor": 1
}

{
 "cells": [
  {
   "cell_type": "markdown",
   "metadata": {},
   "source": [
    "# Boxplot visualization for gut microbe distribution"
   ]
  },
  {
   "cell_type": "code",
   "execution_count": 1,
   "metadata": {
    "collapsed": false
   },
   "outputs": [
    {
     "name": "stderr",
     "output_type": "stream",
     "text": [
      "/Users/zybell/anaconda2/lib/python2.7/site-packages/sklearn/cross_validation.py:44: DeprecationWarning: This module was deprecated in version 0.18 in favor of the model_selection module into which all the refactored classes and functions are moved. Also note that the interface of the new CV iterators are different from that of this module. This module will be removed in 0.20.\n",
      "  \"This module will be removed in 0.20.\", DeprecationWarning)\n"
     ]
    }
   ],
   "source": [
    "import numpy as np\n",
    "import scipy as sp\n",
    "import pandas as pd\n",
    "import statsmodels.api as sm\n",
    "import matplotlib.pyplot as plt\n",
    "from time import time\n",
    "from scipy.stats import randint as sp_randint\n",
    "from sklearn.model_selection import GridSearchCV\n",
    "from sklearn.model_selection import RandomizedSearchCV\n",
    "from sklearn.datasets import load_digits\n",
    "from sklearn.ensemble import RandomForestClassifier\n",
    "from sklearn.ensemble import RandomForestClassifier, AdaBoostClassifier\n",
    "from sklearn import cross_validation, linear_model\n",
    "from sklearn.externals import joblib\n",
    "%matplotlib inline \n",
    "\n",
    "import numpy as np\n",
    "import seaborn as sns\n",
    "sns.set(style=\"ticks\", palette=\"muted\", color_codes=True) #Have the room to play with colors"
   ]
  },
  {
   "cell_type": "code",
   "execution_count": 2,
   "metadata": {
    "collapsed": false
   },
   "outputs": [
    {
     "data": {
      "text/html": [
       "<div>\n",
       "<table border=\"1\" class=\"dataframe\">\n",
       "  <thead>\n",
       "    <tr style=\"text-align: right;\">\n",
       "      <th></th>\n",
       "      <th>Microbe species</th>\n",
       "      <th>Relative Abundance</th>\n",
       "    </tr>\n",
       "  </thead>\n",
       "  <tbody>\n",
       "    <tr>\n",
       "      <th>0</th>\n",
       "      <td>SP3</td>\n",
       "      <td>0.000005</td>\n",
       "    </tr>\n",
       "    <tr>\n",
       "      <th>1</th>\n",
       "      <td>SP2</td>\n",
       "      <td>0.000000</td>\n",
       "    </tr>\n",
       "    <tr>\n",
       "      <th>2</th>\n",
       "      <td>SP10</td>\n",
       "      <td>0.003161</td>\n",
       "    </tr>\n",
       "    <tr>\n",
       "      <th>3</th>\n",
       "      <td>SP5</td>\n",
       "      <td>0.000107</td>\n",
       "    </tr>\n",
       "    <tr>\n",
       "      <th>4</th>\n",
       "      <td>SP9</td>\n",
       "      <td>0.010094</td>\n",
       "    </tr>\n",
       "    <tr>\n",
       "      <th>5</th>\n",
       "      <td>SP17</td>\n",
       "      <td>0.000171</td>\n",
       "    </tr>\n",
       "    <tr>\n",
       "      <th>6</th>\n",
       "      <td>SP8</td>\n",
       "      <td>0.011025</td>\n",
       "    </tr>\n",
       "    <tr>\n",
       "      <th>7</th>\n",
       "      <td>SP1</td>\n",
       "      <td>0.000000</td>\n",
       "    </tr>\n",
       "    <tr>\n",
       "      <th>8</th>\n",
       "      <td>SP21</td>\n",
       "      <td>0.021784</td>\n",
       "    </tr>\n",
       "    <tr>\n",
       "      <th>9</th>\n",
       "      <td>SP19</td>\n",
       "      <td>0.000000</td>\n",
       "    </tr>\n",
       "  </tbody>\n",
       "</table>\n",
       "</div>"
      ],
      "text/plain": [
       "  Microbe species  Relative Abundance\n",
       "0             SP3            0.000005\n",
       "1             SP2            0.000000\n",
       "2            SP10            0.003161\n",
       "3             SP5            0.000107\n",
       "4             SP9            0.010094\n",
       "5            SP17            0.000171\n",
       "6             SP8            0.011025\n",
       "7             SP1            0.000000\n",
       "8            SP21            0.021784\n",
       "9            SP19            0.000000"
      ]
     },
     "execution_count": 2,
     "metadata": {},
     "output_type": "execute_result"
    }
   ],
   "source": [
    "abundance_plot = pd.read_csv('top_10_abundance.csv')\n",
    "one_patient = pd.read_csv('one_patient.csv')\n",
    "one_patient"
   ]
  },
  {
   "cell_type": "markdown",
   "metadata": {
    "collapsed": false
   },
   "source": [
    "# Plot the orbital period with horizontal boxes\n",
    "ax = sns.boxplot(x=\"Relative Abundance\", y=\"Microbe species\", data=abundance_plot,\n",
    "                 whis=np.inf, color=\"c\")\n",
    "ax = sns.swarmplot(x=\"Relative Abundance\", y=\"Microbe species\", data=one_patient, color=\"red\")\n",
    "\n",
    "\n",
    "###ax = sns.boxplot(data=iris, orient=\"h\", palette=\"Set2\")  ## orient = \"h\" is for changing orientation\n",
    "\n",
    "##ax = sns.boxplot(x=\"day\", y=\"total_bill\", data=tips)\n",
    "##"
   ]
  },
  {
   "cell_type": "code",
   "execution_count": null,
   "metadata": {
    "collapsed": true
   },
   "outputs": [],
   "source": []
  },
  {
   "cell_type": "code",
   "execution_count": 6,
   "metadata": {
    "collapsed": false
   },
   "outputs": [
    {
     "data": {
      "image/png": "[encoded data removed]",
      "text/plain": [
       "<matplotlib.figure.Figure at 0x10f10b250>"
      ]
     },
     "metadata": {},
     "output_type": "display_data"
    }
   ],
   "source": [
    "# Plot the first 5 most impt species\n",
    "# The range is too big if I include SP19\n",
    "abundance_plot = pd.read_csv('top_10_abundance.csv')\n",
    "one_patient = pd.read_csv('one_patient.csv')\n",
    "#ax = sns.boxplot(x=\"Relative Abundance\", y=\"Microbe species\", data=abundance_plot, whis=np.inf, color=\"c\")\n",
    "ax = sns.violinplot(x=\"Relative Abundance\", y=\"Microbe species\", data=abundance_plot, scale=\"width\")\n",
    "ax = sns.swarmplot(x=\"Relative Abundance\", y=\"Microbe species\", data=one_patient, color=\"red\")"
   ]
  },
  {
   "cell_type": "code",
   "execution_count": null,
   "metadata": {
    "collapsed": true
   },
   "outputs": [],
   "source": [
    "##### Example to add jitters to the boxplot\n",
    "##ax = sns.boxplot(x=\"day\", y=\"total_bill\", data=tips)\n",
    "##ax = sns.swarmplot(x=\"day\", y=\"total_bill\", data=tips, color=\".25\")"
   ]
  },
  {
   "cell_type": "code",
   "execution_count": 8,
   "metadata": {
    "collapsed": false
   },
   "outputs": [
    {
     "name": "stdout",
     "output_type": "stream",
     "text": [
      "Axes(0.125,0.125;0.775x0.755)\n"
     ]
    }
   ],
   "source": []
  },
  {
   "cell_type": "code",
   "execution_count": 16,
   "metadata": {
    "collapsed": false
   },
   "outputs": [
    {
     "data": {
      "image/png": "[encoded data removed]",
      "text/plain": [
       "<matplotlib.figure.Figure at 0x11bb45b50>"
      ]
     },
     "metadata": {},
     "output_type": "display_data"
    }
   ],
   "source": [
    "SP3 = pd.read_csv('SP3.csv')\n",
    "ax = sns.boxplot(x=\"Relative Abundance\", y=\"Microbe species\", data=SP3,\n",
    "                 whis=np.inf, color=\"c\")"
   ]
  },
  {
   "cell_type": "code",
   "execution_count": 20,
   "metadata": {
    "collapsed": false
   },
   "outputs": [
    {
     "ename": "IndentationError",
     "evalue": "unexpected indent (<ipython-input-20-bdd78fde387d>, line 2)",
     "output_type": "error",
     "traceback": [
      "\u001b[0;36m  File \u001b[0;32m\"<ipython-input-20-bdd78fde387d>\"\u001b[0;36m, line \u001b[0;32m2\u001b[0m\n\u001b[0;31m    jitter=True, size=3, color=\".3\", linewidth=0)  ###Here I only need several dots\u001b[0m\n\u001b[0m    ^\u001b[0m\n\u001b[0;31mIndentationError\u001b[0m\u001b[0;31m:\u001b[0m unexpected indent\n"
     ]
    }
   ],
   "source": [
    "#sns.stripplot(x=\"Relative Abundance\", y=\"Microbe species\", data=planets,\n",
    "              jitter=True, size=3, color=\".3\", linewidth=0)  ###Here I only need several dots "
   ]
  },
  {
   "cell_type": "code",
   "execution_count": null,
   "metadata": {
    "collapsed": true
   },
   "outputs": [],
   "source": []
  },
  {
   "cell_type": "code",
   "execution_count": null,
   "metadata": {
    "collapsed": true
   },
   "outputs": [],
   "source": [
    "### Sample codes from Seaborn templates\n",
    "### Horizontal box plot\n",
    "\n",
    "\n",
    "# Plot the orbital period with horizontal boxes\n",
    "ax = sns.boxplot(x=\"Relative Abundance\", y=\"Microbe species\", data=abundance_plot,\n",
    "                 whis=np.inf, color=\"c\")\n",
    "\n",
    "# Add in points to show each observation\n",
    "sns.stripplot(x=\"distance\", y=\"method\", data=planets,\n",
    "              jitter=True, size=3, color=\".3\", linewidth=0)  ###Here I only need several dots \n",
    "\n",
    "\n",
    "# Make the quantitative axis logarithmic\n",
    "#ax.set_xscale(\"log\") \n",
    "#sns.despine(trim=True)"
   ]
  }
 ],
 "metadata": {
  "kernelspec": {
   "display_name": "Python [default]",
   "language": "python",
   "name": "python2"
  },
  "language_info": {
   "codemirror_mode": {
    "name": "ipython",
    "version": 2
   },
   "file_extension": ".py",
   "mimetype": "text/x-python",
   "name": "python",
   "nbconvert_exporter": "python",
   "pygments_lexer": "ipython2",
   "version": "2.7.13"
  }
 },
 "nbformat": 4,
 "nbformat_minor": 2
}

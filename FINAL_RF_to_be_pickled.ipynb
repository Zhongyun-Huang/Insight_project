{
 "cells": [
  {
   "cell_type": "markdown",
   "metadata": {},
   "source": [
    "# FINAL RANDOM FOREST MODEL TO BE PICKLED IN WEB APP"
   ]
  },
  {
   "cell_type": "code",
   "execution_count": 2,
   "metadata": {
    "collapsed": false
   },
   "outputs": [
    {
     "name": "stdout",
     "output_type": "stream",
     "text": [
      "Automatically created module for IPython interactive environment\n"
     ]
    },
    {
     "name": "stderr",
     "output_type": "stream",
     "text": [
      "/Users/zybell/anaconda2/lib/python2.7/site-packages/sklearn/cross_validation.py:44: DeprecationWarning: This module was deprecated in version 0.18 in favor of the model_selection module into which all the refactored classes and functions are moved. Also note that the interface of the new CV iterators are different from that of this module. This module will be removed in 0.20.\n",
      "  \"This module will be removed in 0.20.\", DeprecationWarning)\n"
     ]
    }
   ],
   "source": [
    "print(__doc__)\n",
    "\n",
    "import numpy as np\n",
    "import scipy as sp\n",
    "import pandas as pd\n",
    "import statsmodels.api as sm\n",
    "import matplotlib.pyplot as plt\n",
    "from time import time\n",
    "from scipy.stats import randint as sp_randint\n",
    "from sklearn.model_selection import GridSearchCV\n",
    "from sklearn.model_selection import RandomizedSearchCV\n",
    "from sklearn.datasets import load_digits\n",
    "from sklearn.ensemble import RandomForestClassifier\n",
    "from sklearn.ensemble import RandomForestClassifier, AdaBoostClassifier\n",
    "from sklearn import cross_validation, linear_model\n",
    "from sklearn.externals import joblib\n",
    "%matplotlib inline "
   ]
  },
  {
   "cell_type": "code",
   "execution_count": 3,
   "metadata": {
    "collapsed": false
   },
   "outputs": [],
   "source": [
    "#### Import training data\n",
    "train_gut = pd.read_csv('train_valid.csv')\n",
    "X = train_gut[['SP1','SP2','SP3','SP4','SP5','SP6','SP7','SP8','SP9','SP10','SP11','SP12','SP13','SP14','SP15','SP16','SP17','SP18','SP19','SP20','SP21','SP22','SP23','SP24','SP25','SP26','SP27']].values\n",
    "y = train_gut['Group'].values"
   ]
  },
  {
   "cell_type": "code",
   "execution_count": 4,
   "metadata": {
    "collapsed": true
   },
   "outputs": [],
   "source": [
    "#### random forest model\n",
    "rf_final = RandomForestClassifier(max_depth=None, n_estimators=50, max_features= 1, min_samples_split=6,min_samples_leaf = 4, bootstrap=False, criterion='gini') \n",
    "RF_final = rf_final.fit(X, y) #model fitting\n",
    "\n"
   ]
  },
  {
   "cell_type": "code",
   "execution_count": 8,
   "metadata": {
    "collapsed": false
   },
   "outputs": [],
   "source": [
    "#### Set leave-one-out validation\n",
    "#### Cross validation iterator\n",
    "#http://scikit-learn.org/stable/modules/cross_validation.html#leave-one-out-loo\n",
    "\n",
    "from sklearn.model_selection import train_test_split\n",
    "from sklearn.model_selection import LeaveOneOut\n",
    "#loo = LeaveOneOut()\n",
    "\n",
    "### eg\n",
    "\n",
    "loo = cross_validation.LeaveOneOut(X.shape[0])\n",
    "#for train_i, test_i in loo:\n",
    "#    score = rf_final.fit(X[train_i], y[train_i]).score(X[test_i], y[test_i])\n",
    "#    print('Sample %d score: %f' % (test_i[0], score))"
   ]
  },
  {
   "cell_type": "code",
   "execution_count": 5,
   "metadata": {
    "collapsed": true
   },
   "outputs": [],
   "source": [
    "### Cross validation\n",
    "from sklearn import cross_validation, linear_model\n",
    "cv = cross_validation.ShuffleSplit(len(y), n_iter=50,test_size=0.2) #Set test set as 20% instead"
   ]
  },
  {
   "cell_type": "code",
   "execution_count": 6,
   "metadata": {
    "collapsed": false
   },
   "outputs": [
    {
     "data": {
      "text/plain": [
       "(0.73826086956521753, 0.1115249173205918)"
      ]
     },
     "execution_count": 6,
     "metadata": {},
     "output_type": "execute_result"
    }
   ],
   "source": [
    "### Use 20% as validation \n",
    "scores_RF_final = cross_validation.cross_val_score(RF_final,X, y, cv=cv)\n",
    "scores_RF_final.mean(), scores_RF_final.std()"
   ]
  },
  {
   "cell_type": "code",
   "execution_count": 11,
   "metadata": {
    "collapsed": false
   },
   "outputs": [
    {
     "data": {
      "text/plain": [
       "(0.76315789473684215, 0.4251445900369345)"
      ]
     },
     "execution_count": 11,
     "metadata": {},
     "output_type": "execute_result"
    }
   ],
   "source": [
    "### Use leave one out\n",
    "scores_RF_final_loo = cross_validation.cross_val_score(RF_final,X, y, cv=loo)\n",
    "scores_RF_final_loo.mean(), scores_RF_final_loo.std()"
   ]
  },
  {
   "cell_type": "code",
   "execution_count": 7,
   "metadata": {
    "collapsed": true
   },
   "outputs": [],
   "source": [
    "### Import test data\n",
    "bulk_test = pd.read_csv('gut_test.csv')\n",
    "X_bt = bulk_test[['SP1','SP2','SP3','SP4','SP5','SP6','SP7','SP8','SP9','SP10','SP11','SP12','SP13','SP14','SP15','SP16','SP17','SP18','SP19','SP20','SP21','SP22','SP23','SP24','SP25','SP26','SP27']].values\n",
    "y_bt = bulk_test['Group'].values"
   ]
  },
  {
   "cell_type": "code",
   "execution_count": 8,
   "metadata": {
    "collapsed": false
   },
   "outputs": [
    {
     "name": "stdout",
     "output_type": "stream",
     "text": [
      "0.777777777778\n"
     ]
    }
   ],
   "source": [
    "### Performance evaluation for test data with the default 0.5 cutoff \n",
    "acc = (y_bt == RF_final.predict(X_bt))\n",
    "print np.mean(acc)"
   ]
  },
  {
   "cell_type": "code",
   "execution_count": 11,
   "metadata": {
    "collapsed": false
   },
   "outputs": [
    {
     "name": "stdout",
     "output_type": "stream",
     "text": [
      "[ 0.6299847   0.69271164  0.79952772  0.78193359  0.74621272  0.75304033\n",
      "  0.805799    0.86492885  0.62974666  0.63537706  0.69455513  0.75831895\n",
      "  0.75954819  0.82012647  0.64300117  0.66613569  0.66624276  0.5918645\n",
      "  0.56022304  0.32124936  0.45017965  0.34697469  0.37250621  0.56293766\n",
      "  0.53362594  0.54253964  0.70986883]\n",
      "[1 1 0 0 0 0 0 0 1 1 1 0 0 0 1 1 1 1 1 1 1 1 1 1 1 1 0]\n"
     ]
    }
   ],
   "source": [
    "### Performance evaluation for test data with the turned-up 0.7 cutoff\n",
    "cancer_chance_test = RF_final.predict_proba(X_bt)[:,0]\n",
    "print cancer_chance_test\n",
    "cancer_bin_test_7 = []\n",
    "for x in np.nditer(cancer_chance_test):\n",
    "    if x > 0.7:\n",
    "        z = 0\n",
    "    else:\n",
    "        z = 1\n",
    "    cancer_bin_test_7.append(z)\n",
    "#print cancer_bin_train_l\n",
    "import numpy as np\n",
    "cancer_predict_test_7 = np.asarray(cancer_bin_test_7)\n",
    "print cancer_predict_test_7"
   ]
  },
  {
   "cell_type": "code",
   "execution_count": 17,
   "metadata": {
    "collapsed": false
   },
   "outputs": [
    {
     "name": "stdout",
     "output_type": "stream",
     "text": [
      "[ 0.78333865  0.81735091  0.76435247  0.779519    0.72919594  0.77413955\n",
      "  0.8705656   0.88808973  0.86645149  0.66478234  0.7771855   0.80161125\n",
      "  0.73075751  0.73403068  0.83285913  0.85764457  0.82194773  0.84105839\n",
      "  0.85398567  0.89156802  0.8124956   0.66946909  0.79362838  0.83532379\n",
      "  0.77343057  0.72475519  0.87793443  0.79106317  0.86202689  0.85461062\n",
      "  0.78395713  0.63391342  0.89690328  0.83269078  0.75820183  0.74629608\n",
      "  0.89121953  0.89897108  0.74508637  0.84284353  0.87811236  0.68192898\n",
      "  0.72415205  0.72397368  0.89894612  0.70159451  0.83412518  0.90316267\n",
      "  0.86460048  0.90302836  0.7988611   0.81591485  0.82022986  0.6667792\n",
      "  0.84511595  0.8293157   0.62190332  0.91968534  0.82833172  0.8308848\n",
      "  0.80791226  0.76124382  0.80406836  0.64103763  0.77799145  0.87108107\n",
      "  0.88747241  0.85494051  0.84949059  0.81579549  0.88704175  0.19610761\n",
      "  0.25703008  0.25639683  0.48827373  0.2917618   0.19884848  0.23207073\n",
      "  0.27969001  0.47065425  0.41678322  0.25595238  0.13616667  0.21649206\n",
      "  0.27381472  0.23648629  0.26614286  0.33051948  0.50506306  0.35453008\n",
      "  0.35326432  0.29809084  0.20354956  0.34418543  0.40603609  0.5761763\n",
      "  0.34328332  0.2538396   0.13973016  0.29307769  0.35992714  0.23787073\n",
      "  0.47355791  0.32979823  0.41987978  0.31295094  0.22572727  0.22135281\n",
      "  0.36429559  0.30128069  0.51371797  0.38630606  0.22982784  0.59551292]\n",
      "[0 0 0 0 0 0 0 0 0 1 0 0 0 0 0 0 0 0 0 0 0 1 0 0 0 0 0 0 0 0 0 1 0 0 0 0 0\n",
      " 0 0 0 0 1 0 0 0 0 0 0 0 0 0 0 0 1 0 0 1 0 0 0 0 0 0 1 0 0 0 0 0 0 0 1 1 1\n",
      " 1 1 1 1 1 1 1 1 1 1 1 1 1 1 1 1 1 1 1 1 1 1 1 1 1 1 1 1 1 1 1 1 1 1 1 1 1\n",
      " 1 1 1]\n"
     ]
    }
   ],
   "source": [
    "cancer_chance_train = RF_final.predict_proba(X)[:,0]\n",
    "print cancer_chance_train\n",
    "cancer_bin_train_l = []\n",
    "cancer_chance_test = RF_final.predict_proba(X_bt)[:,0]\n",
    "print cancer_chance_test\n",
    "cancer_bin_test_7 = []\n",
    "for x in np.nditer(cancer_chance_test):\n",
    "    if x > 0.7:\n",
    "        z = 0\n",
    "    else:\n",
    "        z = 1\n",
    "    cancer_bin_test_7.append(z)\n",
    "#print cancer_bin_train_l\n",
    "import numpy as np\n",
    "cancer_predict_test_7 = np.asarray(cancer_bin_test_7)\n",
    "print cancer_predict_test_7"
   ]
  },
  {
   "cell_type": "code",
   "execution_count": 18,
   "metadata": {
    "collapsed": false
   },
   "outputs": [
    {
     "name": "stdout",
     "output_type": "stream",
     "text": [
      "0.851851851852\n"
     ]
    }
   ],
   "source": [
    "acc2 = (y_bt == cancer_predict_train)\n",
    "print np.mean(acc2)"
   ]
  },
  {
   "cell_type": "code",
   "execution_count": 19,
   "metadata": {
    "collapsed": false
   },
   "outputs": [
    {
     "data": {
      "text/plain": [
       "array([[17,  0],\n",
       "       [ 6,  4]])"
      ]
     },
     "execution_count": 19,
     "metadata": {},
     "output_type": "execute_result"
    }
   ],
   "source": [
    "## Include confusion matrix to see TP, FP, TN, FN\n",
    "## for the default 0.5\n",
    "from sklearn.metrics import confusion_matrix\n",
    "confusion_matrix(y_bt, RF_final.predict(X_bt))"
   ]
  },
  {
   "cell_type": "code",
   "execution_count": 20,
   "metadata": {
    "collapsed": false
   },
   "outputs": [
    {
     "data": {
      "text/plain": [
       "array([[13,  4],\n",
       "       [ 0, 10]])"
      ]
     },
     "execution_count": 20,
     "metadata": {},
     "output_type": "execute_result"
    }
   ],
   "source": [
    "## confusion matrix for the 0.7 new table\n",
    "confusion_matrix(y_bt, cancer_predict_train)"
   ]
  },
  {
   "cell_type": "code",
   "execution_count": 1,
   "metadata": {
    "collapsed": false
   },
   "outputs": [
    {
     "ename": "NameError",
     "evalue": "name 'RF_final' is not defined",
     "output_type": "error",
     "traceback": [
      "\u001b[0;31m---------------------------------------------------------------------------\u001b[0m",
      "\u001b[0;31mNameError\u001b[0m                                 Traceback (most recent call last)",
      "\u001b[0;32m<ipython-input-1-0d7c146d025a>\u001b[0m in \u001b[0;36m<module>\u001b[0;34m()\u001b[0m\n\u001b[1;32m      1\u001b[0m \u001b[0;31m## confusion matrix for the 0.6 new table\u001b[0m\u001b[0;34m\u001b[0m\u001b[0;34m\u001b[0m\u001b[0m\n\u001b[0;32m----> 2\u001b[0;31m \u001b[0mcancer_chance_train\u001b[0m \u001b[0;34m=\u001b[0m \u001b[0mRF_final\u001b[0m\u001b[0;34m.\u001b[0m\u001b[0mpredict_proba\u001b[0m\u001b[0;34m(\u001b[0m\u001b[0mX\u001b[0m\u001b[0;34m)\u001b[0m\u001b[0;34m[\u001b[0m\u001b[0;34m:\u001b[0m\u001b[0;34m,\u001b[0m\u001b[0;36m0\u001b[0m\u001b[0;34m]\u001b[0m\u001b[0;34m\u001b[0m\u001b[0m\n\u001b[0m\u001b[1;32m      3\u001b[0m \u001b[0;32mprint\u001b[0m \u001b[0mcancer_chance_train\u001b[0m\u001b[0;34m\u001b[0m\u001b[0m\n\u001b[1;32m      4\u001b[0m \u001b[0mcancer_bin_train_6\u001b[0m \u001b[0;34m=\u001b[0m \u001b[0;34m[\u001b[0m\u001b[0;34m]\u001b[0m\u001b[0;34m\u001b[0m\u001b[0m\n\u001b[1;32m      5\u001b[0m \u001b[0;32mfor\u001b[0m \u001b[0mx\u001b[0m \u001b[0;32min\u001b[0m \u001b[0mnp\u001b[0m\u001b[0;34m.\u001b[0m\u001b[0mnditer\u001b[0m\u001b[0;34m(\u001b[0m\u001b[0mcancer_chance_train\u001b[0m\u001b[0;34m)\u001b[0m\u001b[0;34m:\u001b[0m\u001b[0;34m\u001b[0m\u001b[0m\n",
      "\u001b[0;31mNameError\u001b[0m: name 'RF_final' is not defined"
     ]
    }
   ],
   "source": [
    "## confusion matrix for the 0.6 new table\n",
    "cancer_chance_train = RF_final.predict_proba(X)[:,0]\n",
    "print cancer_chance_train\n",
    "cancer_bin_train_6 = []\n",
    "for x in np.nditer(cancer_chance_train):\n",
    "    if x > 0.6:\n",
    "        z = 0\n",
    "    else:\n",
    "        z = 1\n",
    "    cancer_bin_train_6.append(z)\n",
    "#print cancer_bin_train_l\n",
    "import numpy as np\n",
    "cancer_predict_train_6 = np.asarray(cancer_bin_train_6)\n",
    "print cancer_predict_train_6"
   ]
  },
  {
   "cell_type": "code",
   "execution_count": 21,
   "metadata": {
    "collapsed": false
   },
   "outputs": [],
   "source": [
    "## Pickle the final model for web app \n",
    "from sklearn.externals import joblib"
   ]
  },
  {
   "cell_type": "code",
   "execution_count": 22,
   "metadata": {
    "collapsed": false
   },
   "outputs": [
    {
     "data": {
      "text/plain": [
       "['gut_app/fit_models/RF_final.pkl']"
      ]
     },
     "execution_count": 22,
     "metadata": {},
     "output_type": "execute_result"
    }
   ],
   "source": [
    "joblib.dump(RF_final,'gut_app/fit_models/RF_final.pkl')  #pickle related"
   ]
  },
  {
   "cell_type": "code",
   "execution_count": null,
   "metadata": {
    "collapsed": true
   },
   "outputs": [],
   "source": [
    "## Make ROC curve and calculate AUC to compare methods\n",
    "\n",
    "RF_final_predict_test = RF_final.predict_proba(X_bt)[:,1]  #Proba prediction  \n",
    "fpr_t, tpr_t, thresholds_t = roc_curve(y_bt, RF_final_predict_test)\n",
    "\n",
    "from sklearn.metrics import roc_auc_score ##roc auc##\n",
    "roc_auc_score_t = roc_auc_score(y_bt, RF_predict_test)\n",
    "roc_auc_score_t"
   ]
  },
  {
   "cell_type": "code",
   "execution_count": 11,
   "metadata": {
    "collapsed": false
   },
   "outputs": [],
   "source": [
    "rf_final.fit(X,y)\n",
    "importances = rf_final.feature_importances_"
   ]
  },
  {
   "cell_type": "code",
   "execution_count": 13,
   "metadata": {
    "collapsed": false
   },
   "outputs": [
    {
     "data": {
      "text/plain": [
       "array([ 0.04062714,  0.07128638,  0.08709663,  0.03518391,  0.05396193,\n",
       "        0.02563821,  0.02183593,  0.04362975,  0.05204962,  0.06330605,\n",
       "        0.0184215 ,  0.03394493,  0.03492832,  0.03029722,  0.02310572,\n",
       "        0.02749652,  0.04537184,  0.02834343,  0.03760688,  0.03134208,\n",
       "        0.03944701,  0.02503717,  0.0284081 ,  0.01968092,  0.02476821,\n",
       "        0.0345748 ,  0.02260978])"
      ]
     },
     "execution_count": 13,
     "metadata": {},
     "output_type": "execute_result"
    }
   ],
   "source": [
    "importances"
   ]
  }
 ],
 "metadata": {
  "kernelspec": {
   "display_name": "Python [default]",
   "language": "python",
   "name": "python2"
  },
  "language_info": {
   "codemirror_mode": {
    "name": "ipython",
    "version": 2
   },
   "file_extension": ".py",
   "mimetype": "text/x-python",
   "name": "python",
   "nbconvert_exporter": "python",
   "pygments_lexer": "ipython2",
   "version": "2.7.13"
  }
 },
 "nbformat": 4,
 "nbformat_minor": 2
}

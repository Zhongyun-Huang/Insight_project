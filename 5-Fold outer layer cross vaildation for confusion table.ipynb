{
 "cells": [
  {
   "cell_type": "markdown",
   "metadata": {},
   "source": [
    "#### Five fold older layer cross validation####"
   ]
  },
  {
   "cell_type": "code",
   "execution_count": 32,
   "metadata": {
    "collapsed": false
   },
   "outputs": [
    {
     "name": "stdout",
     "output_type": "stream",
     "text": [
      "Automatically created module for IPython interactive environment\n"
     ]
    }
   ],
   "source": [
    "print(__doc__)\n",
    "\n",
    "import numpy as np\n",
    "import scipy as sp\n",
    "import pandas as pd\n",
    "import statsmodels.api as sm\n",
    "import matplotlib.pyplot as plt\n",
    "from time import time\n",
    "from sklearn.svm import SVC\n",
    "from sklearn.model_selection import GridSearchCV, cross_val_score, KFold\n",
    "from scipy.stats import randint as sp_randint\n",
    "from sklearn.model_selection import GridSearchCV\n",
    "from sklearn.model_selection import RandomizedSearchCV\n",
    "from sklearn.datasets import load_digits\n",
    "from sklearn.ensemble import RandomForestClassifier\n",
    "from sklearn.ensemble import RandomForestClassifier, AdaBoostClassifier\n",
    "from sklearn import cross_validation, linear_model\n",
    "from sklearn.externals import joblib\n",
    "%matplotlib inline "
   ]
  },
  {
   "cell_type": "code",
   "execution_count": 33,
   "metadata": {
    "collapsed": false
   },
   "outputs": [],
   "source": [
    "### Define RandomForest regressor\n",
    "rf_cv = RandomForestClassifier(max_depth=None, n_estimators=50, max_features= 4, min_samples_split=8,min_samples_leaf = 5, bootstrap=False, criterion='gini') "
   ]
  },
  {
   "cell_type": "code",
   "execution_count": 34,
   "metadata": {
    "collapsed": false
   },
   "outputs": [],
   "source": [
    "#######################\n",
    "##For Fold 1 ##########\n",
    "Tr1 = pd.read_csv('train_fold_1.csv')\n",
    "X1 = Tr1[['Fusobacterium nucleatum_1','Fusobacterium nucleatum_2','Peptostreptococcus stomatis','Porphyromonas','Clostridium symbiosum','Clostridium hylemonae','Phascolarctobacterium succinatutens','unnamed Ruminococcus sp. 5_1_39BFAA','unnamed Ruminococcus sp. SR1/5','Streptococcus salivarius','Bacteroides dorei/vulgatus','Ruminococcus bromii','Bacteroides uniformis','Eubacterium rectale','Prevotella copri','butyrate-producing bacterium','Escherichia coli','Alistipes putredinis','Methanobrevibacter smithii','Parabacteroides distasonis','Faecalibacterium prausnitzii','Eubacterium eligens','Butyrivibrio crossotus','[Ruminococcus] torques','Bacteroides ovatus','Bifidobacterium longum','Faecalibacterium prausnitzii']].values\n",
    "y1 = Tr1['Group'].values\n",
    "Te1 = pd.read_csv('test_fold_1.csv')\n",
    "Xt1 = Te1[['Fusobacterium nucleatum_1','Fusobacterium nucleatum_2','Peptostreptococcus stomatis','Porphyromonas','Clostridium symbiosum','Clostridium hylemonae','Phascolarctobacterium succinatutens','unnamed Ruminococcus sp. 5_1_39BFAA','unnamed Ruminococcus sp. SR1/5','Streptococcus salivarius','Bacteroides dorei/vulgatus','Ruminococcus bromii','Bacteroides uniformis','Eubacterium rectale','Prevotella copri','butyrate-producing bacterium','Escherichia coli','Alistipes putredinis','Methanobrevibacter smithii','Parabacteroides distasonis','Faecalibacterium prausnitzii','Eubacterium eligens','Butyrivibrio crossotus','[Ruminococcus] torques','Bacteroides ovatus','Bifidobacterium longum','Faecalibacterium prausnitzii']].values\n",
    "yt1 = Te1['Group'].values"
   ]
  },
  {
   "cell_type": "code",
   "execution_count": 35,
   "metadata": {
    "collapsed": false
   },
   "outputs": [
    {
     "data": {
      "text/plain": [
       "array([[ 0.77268254,  0.22731746],\n",
       "       [ 0.83390476,  0.16609524],\n",
       "       [ 0.76850794,  0.23149206],\n",
       "       [ 0.93300794,  0.06699206],\n",
       "       [ 0.86119048,  0.13880952],\n",
       "       [ 0.72997619,  0.27002381],\n",
       "       [ 0.87552381,  0.12447619],\n",
       "       [ 0.85835714,  0.14164286],\n",
       "       [ 0.82164286,  0.17835714],\n",
       "       [ 0.73360317,  0.26639683],\n",
       "       [ 0.80420635,  0.19579365],\n",
       "       [ 0.84443651,  0.15556349],\n",
       "       [ 0.83176984,  0.16823016],\n",
       "       [ 0.74355556,  0.25644444],\n",
       "       [ 0.76080952,  0.23919048],\n",
       "       [ 0.82988889,  0.17011111],\n",
       "       [ 0.69043651,  0.30956349],\n",
       "       [ 0.59757937,  0.40242063],\n",
       "       [ 0.35733333,  0.64266667],\n",
       "       [ 0.20685714,  0.79314286],\n",
       "       [ 0.42296825,  0.57703175],\n",
       "       [ 0.78168254,  0.21831746],\n",
       "       [ 0.29270635,  0.70729365],\n",
       "       [ 0.2247619 ,  0.7752381 ],\n",
       "       [ 0.29042063,  0.70957937],\n",
       "       [ 0.46524603,  0.53475397],\n",
       "       [ 0.65352381,  0.34647619],\n",
       "       [ 0.59824603,  0.40175397]])"
      ]
     },
     "execution_count": 35,
     "metadata": {},
     "output_type": "execute_result"
    }
   ],
   "source": [
    "##### For Fold 1 ####\n",
    "RF1 = rf_cv.fit(X1, y1) #model fitting\n",
    "prob1 = RF1.predict_proba(Xt1) #Prob 1 is the prob score for sample (1-18) + (1-10)\n",
    "prob1"
   ]
  },
  {
   "cell_type": "code",
   "execution_count": 36,
   "metadata": {
    "collapsed": false
   },
   "outputs": [],
   "source": [
    "####################\n",
    "##For Fold 2########\n",
    "Tr2 = pd.read_csv('train_fold_2.csv')\n",
    "X2 = Tr2[['Fusobacterium nucleatum_1','Fusobacterium nucleatum_2','Peptostreptococcus stomatis','Porphyromonas','Clostridium symbiosum','Clostridium hylemonae','Phascolarctobacterium succinatutens','unnamed Ruminococcus sp. 5_1_39BFAA','unnamed Ruminococcus sp. SR1/5','Streptococcus salivarius','Bacteroides dorei/vulgatus','Ruminococcus bromii','Bacteroides uniformis','Eubacterium rectale','Prevotella copri','butyrate-producing bacterium','Escherichia coli','Alistipes putredinis','Methanobrevibacter smithii','Parabacteroides distasonis','Faecalibacterium prausnitzii','Eubacterium eligens','Butyrivibrio crossotus','[Ruminococcus] torques','Bacteroides ovatus','Bifidobacterium longum','Faecalibacterium prausnitzii']].values\n",
    "y2 = Tr2['Group'].values\n",
    "Te2 = pd.read_csv('test_fold_2.csv')\n",
    "Xt2 = Te2[['Fusobacterium nucleatum_1','Fusobacterium nucleatum_2','Peptostreptococcus stomatis','Porphyromonas','Clostridium symbiosum','Clostridium hylemonae','Phascolarctobacterium succinatutens','unnamed Ruminococcus sp. 5_1_39BFAA','unnamed Ruminococcus sp. SR1/5','Streptococcus salivarius','Bacteroides dorei/vulgatus','Ruminococcus bromii','Bacteroides uniformis','Eubacterium rectale','Prevotella copri','butyrate-producing bacterium','Escherichia coli','Alistipes putredinis','Methanobrevibacter smithii','Parabacteroides distasonis','Faecalibacterium prausnitzii','Eubacterium eligens','Butyrivibrio crossotus','[Ruminococcus] torques','Bacteroides ovatus','Bifidobacterium longum','Faecalibacterium prausnitzii']].values\n",
    "yt2 = Te2['Group'].values"
   ]
  },
  {
   "cell_type": "code",
   "execution_count": 37,
   "metadata": {
    "collapsed": true
   },
   "outputs": [],
   "source": [
    "##For Fold 2####\n",
    "RF2 = rf_cv.fit(X2, y2) #model fitting\n",
    "prob2 = RF2.predict_proba(Xt2) "
   ]
  },
  {
   "cell_type": "code",
   "execution_count": 38,
   "metadata": {
    "collapsed": true
   },
   "outputs": [],
   "source": [
    "#################\n",
    "##For Fold 3 #####\n",
    "Tr3 = pd.read_csv('train_fold_3.csv')\n",
    "X3 = Tr3[['Fusobacterium nucleatum_1','Fusobacterium nucleatum_2','Peptostreptococcus stomatis','Porphyromonas','Clostridium symbiosum','Clostridium hylemonae','Phascolarctobacterium succinatutens','unnamed Ruminococcus sp. 5_1_39BFAA','unnamed Ruminococcus sp. SR1/5','Streptococcus salivarius','Bacteroides dorei/vulgatus','Ruminococcus bromii','Bacteroides uniformis','Eubacterium rectale','Prevotella copri','butyrate-producing bacterium','Escherichia coli','Alistipes putredinis','Methanobrevibacter smithii','Parabacteroides distasonis','Faecalibacterium prausnitzii','Eubacterium eligens','Butyrivibrio crossotus','[Ruminococcus] torques','Bacteroides ovatus','Bifidobacterium longum','Faecalibacterium prausnitzii']].values\n",
    "y3 = Tr3['Group'].values\n",
    "Te3 = pd.read_csv('test_fold_3.csv')\n",
    "Xt3 = Te3[['Fusobacterium nucleatum_1','Fusobacterium nucleatum_2','Peptostreptococcus stomatis','Porphyromonas','Clostridium symbiosum','Clostridium hylemonae','Phascolarctobacterium succinatutens','unnamed Ruminococcus sp. 5_1_39BFAA','unnamed Ruminococcus sp. SR1/5','Streptococcus salivarius','Bacteroides dorei/vulgatus','Ruminococcus bromii','Bacteroides uniformis','Eubacterium rectale','Prevotella copri','butyrate-producing bacterium','Escherichia coli','Alistipes putredinis','Methanobrevibacter smithii','Parabacteroides distasonis','Faecalibacterium prausnitzii','Eubacterium eligens','Butyrivibrio crossotus','[Ruminococcus] torques','Bacteroides ovatus','Bifidobacterium longum','Faecalibacterium prausnitzii']].values\n",
    "yt3 = Te3['Group'].values\n",
    "\n",
    "RF3 = rf_cv.fit(X3, y3) #model fitting\n",
    "prob3 = RF3.predict_proba(Xt3)\n"
   ]
  },
  {
   "cell_type": "code",
   "execution_count": 39,
   "metadata": {
    "collapsed": true
   },
   "outputs": [],
   "source": [
    "################\n",
    "##For Fold 4 ####\n",
    "Tr4 = pd.read_csv('train_fold_4.csv')\n",
    "X4 = Tr4[['Fusobacterium nucleatum_1','Fusobacterium nucleatum_2','Peptostreptococcus stomatis','Porphyromonas','Clostridium symbiosum','Clostridium hylemonae','Phascolarctobacterium succinatutens','unnamed Ruminococcus sp. 5_1_39BFAA','unnamed Ruminococcus sp. SR1/5','Streptococcus salivarius','Bacteroides dorei/vulgatus','Ruminococcus bromii','Bacteroides uniformis','Eubacterium rectale','Prevotella copri','butyrate-producing bacterium','Escherichia coli','Alistipes putredinis','Methanobrevibacter smithii','Parabacteroides distasonis','Faecalibacterium prausnitzii','Eubacterium eligens','Butyrivibrio crossotus','[Ruminococcus] torques','Bacteroides ovatus','Bifidobacterium longum','Faecalibacterium prausnitzii']].values\n",
    "y4 = Tr4['Group'].values\n",
    "Te4 = pd.read_csv('test_fold_4.csv')\n",
    "Xt4 = Te4[['Fusobacterium nucleatum_1','Fusobacterium nucleatum_2','Peptostreptococcus stomatis','Porphyromonas','Clostridium symbiosum','Clostridium hylemonae','Phascolarctobacterium succinatutens','unnamed Ruminococcus sp. 5_1_39BFAA','unnamed Ruminococcus sp. SR1/5','Streptococcus salivarius','Bacteroides dorei/vulgatus','Ruminococcus bromii','Bacteroides uniformis','Eubacterium rectale','Prevotella copri','butyrate-producing bacterium','Escherichia coli','Alistipes putredinis','Methanobrevibacter smithii','Parabacteroides distasonis','Faecalibacterium prausnitzii','Eubacterium eligens','Butyrivibrio crossotus','[Ruminococcus] torques','Bacteroides ovatus','Bifidobacterium longum','Faecalibacterium prausnitzii']].values\n",
    "yt4 = Te4['Group'].values\n",
    "\n",
    "RF4 = rf_cv.fit(X4, y4) #model fitting\n",
    "prob4 = RF4.predict_proba(Xt4)"
   ]
  },
  {
   "cell_type": "code",
   "execution_count": 40,
   "metadata": {
    "collapsed": true
   },
   "outputs": [],
   "source": [
    "################\n",
    "##For Fold 5 ####\n",
    "Tr5 = pd.read_csv('train_fold_5.csv')\n",
    "X5 = Tr5[['Fusobacterium nucleatum_1','Fusobacterium nucleatum_2','Peptostreptococcus stomatis','Porphyromonas','Clostridium symbiosum','Clostridium hylemonae','Phascolarctobacterium succinatutens','unnamed Ruminococcus sp. 5_1_39BFAA','unnamed Ruminococcus sp. SR1/5','Streptococcus salivarius','Bacteroides dorei/vulgatus','Ruminococcus bromii','Bacteroides uniformis','Eubacterium rectale','Prevotella copri','butyrate-producing bacterium','Escherichia coli','Alistipes putredinis','Methanobrevibacter smithii','Parabacteroides distasonis','Faecalibacterium prausnitzii','Eubacterium eligens','Butyrivibrio crossotus','[Ruminococcus] torques','Bacteroides ovatus','Bifidobacterium longum','Faecalibacterium prausnitzii']].values\n",
    "y5 = Tr5['Group'].values\n",
    "Te5 = pd.read_csv('test_fold_5.csv')\n",
    "Xt5 = Te5[['Fusobacterium nucleatum_1','Fusobacterium nucleatum_2','Peptostreptococcus stomatis','Porphyromonas','Clostridium symbiosum','Clostridium hylemonae','Phascolarctobacterium succinatutens','unnamed Ruminococcus sp. 5_1_39BFAA','unnamed Ruminococcus sp. SR1/5','Streptococcus salivarius','Bacteroides dorei/vulgatus','Ruminococcus bromii','Bacteroides uniformis','Eubacterium rectale','Prevotella copri','butyrate-producing bacterium','Escherichia coli','Alistipes putredinis','Methanobrevibacter smithii','Parabacteroides distasonis','Faecalibacterium prausnitzii','Eubacterium eligens','Butyrivibrio crossotus','[Ruminococcus] torques','Bacteroides ovatus','Bifidobacterium longum','Faecalibacterium prausnitzii']].values\n",
    "yt5 = Te5['Group'].values\n",
    "\n",
    "RF5 = rf_cv.fit(X5, y5) #model fitting\n",
    "prob5 = RF5.predict_proba(Xt5)"
   ]
  },
  {
   "cell_type": "code",
   "execution_count": 41,
   "metadata": {
    "collapsed": false
   },
   "outputs": [
    {
     "data": {
      "text/plain": [
       "array([0, 0, 0, 1, 0, 0, 0, 0, 0, 0, 1, 0, 0, 0, 1, 1, 1, 1, 1, 1, 0, 1, 0])"
      ]
     },
     "execution_count": 41,
     "metadata": {},
     "output_type": "execute_result"
    }
   ],
   "source": [
    "RF5.predict(Xt5)"
   ]
  },
  {
   "cell_type": "code",
   "execution_count": 42,
   "metadata": {
    "collapsed": false
   },
   "outputs": [
    {
     "name": "stdout",
     "output_type": "stream",
     "text": [
      "[ 0.77268254  0.83390476  0.76850794  0.93300794  0.86119048  0.72997619\n",
      "  0.87552381  0.85835714  0.82164286  0.73360317  0.80420635  0.84443651\n",
      "  0.83176984  0.74355556  0.76080952  0.82988889  0.69043651  0.59757937\n",
      "  0.35733333  0.20685714  0.42296825  0.78168254  0.29270635  0.2247619\n",
      "  0.29042063  0.46524603  0.65352381  0.59824603  0.73724603  0.66895238\n",
      "  0.74981746  0.6885873   0.47073016  0.971       0.79405556  0.86738095\n",
      "  0.32444444  0.33124603  0.67694444  0.74684127  0.50606349  0.86821429\n",
      "  0.84538095  0.8407619   0.81746032  0.74580159  0.93193651  0.33581746\n",
      "  0.23778571  0.10827778  0.20671429  0.23112698  0.35764286  0.09881746\n",
      "  0.82961111  0.61646825  0.23927778  0.63035714  0.36883333  0.84731746\n",
      "  0.89334921  0.84965079  0.57284127  0.9662619   0.60692063  0.65157143\n",
      "  0.89503968  0.7739127   0.20295238  0.93807143  0.87700794  0.60984127\n",
      "  0.64863492  0.70116667  0.95573016  0.78206349  0.35275397  0.23649206\n",
      "  0.80542063  0.78811905  0.95006349  0.50014286  0.41072222  0.12944444\n",
      "  0.50110317  0.39378571  0.15628571  0.51045238  0.86111905  0.8560873\n",
      "  0.34057143  0.67030159  0.52787302  0.89387302  0.68749206  0.86190476\n",
      "  0.86184127  0.88400794  0.865       0.74904762  0.85511905  0.77040476\n",
      "  0.77703175  0.76242063  0.7027381   0.44075397  0.13905556  0.48176984\n",
      "  0.62703968  0.2362619   0.31331746  0.28143651  0.37966667  0.85450794\n",
      "  0.65224603  0.34780159  0.92507937  0.66192063  0.88811111  0.72183333\n",
      "  0.87318254  0.41753175  0.7311746   0.57412698  0.53306349  0.81086508\n",
      "  0.84365873  0.85870635  0.4018254   0.928       0.83638095  0.76353968\n",
      "  0.29011111  0.22547619  0.42764286  0.27484127  0.13301587  0.40707143\n",
      "  0.56457143  0.45305556  0.68486508]\n"
     ]
    }
   ],
   "source": [
    "prob_all = np.concatenate((prob1, prob2, prob3, prob4, prob5), axis=0)\n",
    "print prob_all[:,0]"
   ]
  },
  {
   "cell_type": "code",
   "execution_count": 43,
   "metadata": {
    "collapsed": false
   },
   "outputs": [
    {
     "name": "stdout",
     "output_type": "stream",
     "text": [
      "[0 0 0 0 0 0 0 0 0 0 0 0 0 0 0 0 0 0 1 1 1 1 1 1 1 1 1 1 0 0 0 0 0 0 0 0 0\n",
      " 0 0 0 0 0 0 0 0 0 0 1 1 1 1 1 1 1 1 1 1 0 0 0 0 0 0 0 0 0 0 0 0 0 0 0 0 0\n",
      " 0 0 1 1 1 1 1 1 1 1 1 1 1 1 0 0 0 0 0 0 0 0 0 0 0 0 0 0 0 0 0 0 1 1 1 1 1\n",
      " 1 1 1 1 1 1 1 0 0 0 0 0 0 0 0 0 0 0 0 0 0 1 1 1 1 1 1 1 1 1]\n"
     ]
    }
   ],
   "source": [
    "y_all = np.concatenate((yt1, yt2, yt3, yt4, yt5), axis=0)\n",
    "print y_all"
   ]
  },
  {
   "cell_type": "code",
   "execution_count": 44,
   "metadata": {
    "collapsed": false
   },
   "outputs": [
    {
     "name": "stdout",
     "output_type": "stream",
     "text": [
      "[0 0 0 0 0 0 0 0 0 0 0 0 0 0 0 0 0 0 1 1 1 0 1 1 1 1 0 0 0 0 0 0 1 0 0 0 1\n",
      " 1 0 0 0 0 0 0 0 0 0 1 1 1 1 1 1 1 0 0 1 0 1 0 0 0 0 0 0 0 0 0 1 0 0 0 0 0\n",
      " 0 0 1 1 0 0 0 0 1 1 0 1 1 0 0 0 1 0 0 0 0 0 0 0 0 0 0 0 0 0 0 1 1 1 0 1 1\n",
      " 1 1 0 0 1 0 0 0 0 0 1 0 0 0 0 0 0 1 0 0 0 1 1 1 1 1 1 0 1 0]\n"
     ]
    }
   ],
   "source": [
    "### For cutoff = 0.5\n",
    "cutoff5_l = []\n",
    "for x in np.nditer(prob_all[:,0]):\n",
    "    if x > 0.5:\n",
    "        z = 0\n",
    "    else:\n",
    "        z = 1\n",
    "    cutoff5_l.append(z)\n",
    "cutoff5 = np.asarray(cutoff5_l)\n",
    "print cutoff5  "
   ]
  },
  {
   "cell_type": "code",
   "execution_count": 45,
   "metadata": {
    "collapsed": false
   },
   "outputs": [
    {
     "data": {
      "text/plain": [
       "array([[79,  9],\n",
       "       [18, 35]])"
      ]
     },
     "execution_count": 45,
     "metadata": {},
     "output_type": "execute_result"
    }
   ],
   "source": [
    "from sklearn.metrics import confusion_matrix\n",
    "confusion_matrix(y_all, cutoff5)"
   ]
  },
  {
   "cell_type": "code",
   "execution_count": 46,
   "metadata": {
    "collapsed": false
   },
   "outputs": [
    {
     "name": "stdout",
     "output_type": "stream",
     "text": [
      "0.808510638298\n"
     ]
    }
   ],
   "source": [
    "acc5 = (y_all == cutoff5)\n",
    "print np.mean(acc5)"
   ]
  },
  {
   "cell_type": "code",
   "execution_count": 47,
   "metadata": {
    "collapsed": false
   },
   "outputs": [
    {
     "name": "stdout",
     "output_type": "stream",
     "text": [
      "[0 0 0 0 0 0 0 0 0 0 0 0 0 0 0 0 0 1 1 1 1 0 1 1 1 1 0 1 0 0 0 0 1 0 0 0 1\n",
      " 1 0 0 1 0 0 0 0 0 0 1 1 1 1 1 1 1 0 0 1 0 1 0 0 0 1 0 0 0 0 0 1 0 0 0 0 0\n",
      " 0 0 1 1 0 0 0 1 1 1 1 1 1 1 0 0 1 0 1 0 0 0 0 0 0 0 0 0 0 0 0 1 1 1 0 1 1\n",
      " 1 1 0 0 1 0 0 0 0 0 1 0 1 1 0 0 0 1 0 0 0 1 1 1 1 1 1 1 1 0]\n"
     ]
    }
   ],
   "source": [
    "### For cutoff = 0.6\n",
    "cutoff6_l = []\n",
    "for x in np.nditer(prob_all[:,0]):\n",
    "    if x > 0.6:\n",
    "        z = 0\n",
    "    else:\n",
    "        z = 1\n",
    "    cutoff6_l.append(z)\n",
    "cutoff6 = np.asarray(cutoff6_l)\n",
    "print cutoff6"
   ]
  },
  {
   "cell_type": "code",
   "execution_count": 48,
   "metadata": {
    "collapsed": false
   },
   "outputs": [
    {
     "data": {
      "text/plain": [
       "array([[73, 15],\n",
       "       [13, 40]])"
      ]
     },
     "execution_count": 48,
     "metadata": {},
     "output_type": "execute_result"
    }
   ],
   "source": [
    "confusion_matrix(y_all, cutoff6)\n",
    "#acc6 = (y_all == cutoff6)\n",
    "#print np.mean(acc6) 0.808510638298"
   ]
  },
  {
   "cell_type": "code",
   "execution_count": 49,
   "metadata": {
    "collapsed": false
   },
   "outputs": [
    {
     "name": "stdout",
     "output_type": "stream",
     "text": [
      "[0 0 0 0 0 0 0 0 0 0 0 0 0 0 0 0 1 1 1 1 1 0 1 1 1 1 1 1 0 1 0 1 1 0 0 0 1\n",
      " 1 1 0 1 0 0 0 0 0 0 1 1 1 1 1 1 1 0 1 1 1 1 0 0 0 1 0 1 1 0 0 1 0 0 1 1 0\n",
      " 0 0 1 1 0 0 0 1 1 1 1 1 1 1 0 0 1 1 1 0 1 0 0 0 0 0 0 0 0 0 0 1 1 1 1 1 1\n",
      " 1 1 0 1 1 0 1 0 0 0 1 0 1 1 0 0 0 1 0 0 0 1 1 1 1 1 1 1 1 1]\n"
     ]
    }
   ],
   "source": [
    "### For cutoff = 0.7\n",
    "cutoff7_l = []\n",
    "for x in np.nditer(prob_all[:,0]):\n",
    "    if x > 0.7:\n",
    "        z = 0\n",
    "    else:\n",
    "        z = 1\n",
    "    cutoff7_l.append(z)\n",
    "cutoff7 = np.asarray(cutoff7_l)\n",
    "print cutoff7"
   ]
  },
  {
   "cell_type": "code",
   "execution_count": 50,
   "metadata": {
    "collapsed": false
   },
   "outputs": [
    {
     "data": {
      "text/plain": [
       "array([[62, 26],\n",
       "       [ 7, 46]])"
      ]
     },
     "execution_count": 50,
     "metadata": {},
     "output_type": "execute_result"
    }
   ],
   "source": [
    "confusion_matrix(y_all, cutoff7)\n",
    "#acc7 = (y_all == cutoff7)\n",
    "#print np.mean(acc7) 0.780141843972"
   ]
  },
  {
   "cell_type": "code",
   "execution_count": 51,
   "metadata": {
    "collapsed": false
   },
   "outputs": [
    {
     "ename": "SyntaxError",
     "evalue": "invalid syntax (<ipython-input-51-1a031c109de7>, line 12)",
     "output_type": "error",
     "traceback": [
      "\u001b[0;36m  File \u001b[0;32m\"<ipython-input-51-1a031c109de7>\"\u001b[0;36m, line \u001b[0;32m12\u001b[0m\n\u001b[0;31m    print np.mean(acc8) 0.595744680851\u001b[0m\n\u001b[0m                                     ^\u001b[0m\n\u001b[0;31mSyntaxError\u001b[0m\u001b[0;31m:\u001b[0m invalid syntax\n"
     ]
    }
   ],
   "source": [
    "### For cutoff = 0.8\n",
    "cutoff8_l = []\n",
    "for x in np.nditer(prob_all[:,0]):\n",
    "    if x > 0.8:\n",
    "        z = 0\n",
    "    else:\n",
    "        z = 1\n",
    "    cutoff8_l.append(z)\n",
    "cutoff8 = np.asarray(cutoff8_l)\n",
    "confusion_matrix(y_all, cutoff8)\n",
    "acc8 = (y_all == cutoff8)\n",
    "print np.mean(acc8) 0.595744680851"
   ]
  },
  {
   "cell_type": "code",
   "execution_count": 52,
   "metadata": {
    "collapsed": false
   },
   "outputs": [
    {
     "data": {
      "text/plain": [
       "array([[ 7, 81],\n",
       "       [ 2, 51]])"
      ]
     },
     "execution_count": 52,
     "metadata": {},
     "output_type": "execute_result"
    }
   ],
   "source": [
    "### For cutoff = 0.9\n",
    "cutoff9_l = []\n",
    "for x in np.nditer(prob_all[:,0]):\n",
    "    if x > 0.9:\n",
    "        z = 0\n",
    "    else:\n",
    "        z = 1\n",
    "    cutoff9_l.append(z)\n",
    "cutoff9 = np.asarray(cutoff9_l)\n",
    "confusion_matrix(y_all, cutoff9)\n",
    "#acc9 = (y_all == cutoff9)\n",
    "#print np.mean(acc9)  0.41134751773"
   ]
  },
  {
   "cell_type": "code",
   "execution_count": 53,
   "metadata": {
    "collapsed": true
   },
   "outputs": [],
   "source": [
    "##### Build ROC curve for the whole dataset #####\n",
    "#################################################\n",
    "from sklearn.metrics import roc_curve, auc  ##Make roc curve ##  ##new##\n",
    "from sklearn.metrics import roc_auc_score ##roc auc##"
   ]
  },
  {
   "cell_type": "code",
   "execution_count": 55,
   "metadata": {
    "collapsed": true
   },
   "outputs": [],
   "source": [
    "#ROC curve for 0.5 cutoff\n",
    "fpr, tpr, thresholds = roc_curve(y_all, cutoff5)\n",
    "roc_auc_score = roc_auc_score(y_all,cutoff5)"
   ]
  },
  {
   "cell_type": "code",
   "execution_count": 91,
   "metadata": {
    "collapsed": false
   },
   "outputs": [
    {
     "name": "stdout",
     "output_type": "stream",
     "text": [
      "Populating the interactive namespace from numpy and matplotlib\n"
     ]
    },
    {
     "data": {
      "image/png": "[encoded data removed]",
      "text/plain": [
       "<matplotlib.figure.Figure at 0x112a5df10>"
      ]
     },
     "metadata": {},
     "output_type": "display_data"
    }
   ],
   "source": [
    "%pylab inline\n",
    "%matplotlib inline \n",
    "#pylab.rcParams['figure.figsize'] = (6, 4)\n",
    "#label_size = 20\n",
    "\n",
    "plt.figure()\n",
    "lw = 2\n",
    "plt.plot(fpr, tpr, color='red',\n",
    "         lw=lw, label='ROC curve (area = %0.2f)' % roc_auc_score)\n",
    "plt.plot([0, 1], [0, 1], color='navy', lw=lw, linestyle='--')\n",
    "plt.xlim([-0.05, 1.0])\n",
    "plt.ylim([-0.05, 1.05])\n",
    "plt.xlabel('False Positive Rate')\n",
    "plt.ylabel('True Positive Rate')\n",
    "plt.title('Receiver Operating Characteristic for Random Forest')\n",
    "plt.legend(loc=\"lower right\")\n",
    "plt.show()"
   ]
  }
 ],
 "metadata": {
  "kernelspec": {
   "display_name": "Python [default]",
   "language": "python",
   "name": "python2"
  },
  "language_info": {
   "codemirror_mode": {
    "name": "ipython",
    "version": 2
   },
   "file_extension": ".py",
   "mimetype": "text/x-python",
   "name": "python",
   "nbconvert_exporter": "python",
   "pygments_lexer": "ipython2",
   "version": "2.7.13"
  }
 },
 "nbformat": 4,
 "nbformat_minor": 2
}

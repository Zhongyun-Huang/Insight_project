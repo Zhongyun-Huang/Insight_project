{
 "cells": [
  {
   "cell_type": "code",
   "execution_count": 1,
   "metadata": {
    "collapsed": false
   },
   "outputs": [
    {
     "name": "stdout",
     "output_type": "stream",
     "text": [
      "Automatically created module for IPython interactive environment\n"
     ]
    },
    {
     "name": "stderr",
     "output_type": "stream",
     "text": [
      "/Users/zybell/anaconda2/lib/python2.7/site-packages/sklearn/cross_validation.py:44: DeprecationWarning: This module was deprecated in version 0.18 in favor of the model_selection module into which all the refactored classes and functions are moved. Also note that the interface of the new CV iterators are different from that of this module. This module will be removed in 0.20.\n",
      "  \"This module will be removed in 0.20.\", DeprecationWarning)\n"
     ]
    }
   ],
   "source": [
    "print(__doc__)\n",
    "\n",
    "import numpy as np\n",
    "import scipy as sp\n",
    "import pandas as pd\n",
    "import statsmodels.api as sm\n",
    "import matplotlib.pyplot as plt\n",
    "from time import time\n",
    "from sklearn.svm import SVC\n",
    "from sklearn.model_selection import GridSearchCV, cross_val_score, KFold\n",
    "from scipy.stats import randint as sp_randint\n",
    "from sklearn.model_selection import GridSearchCV\n",
    "from sklearn.model_selection import RandomizedSearchCV\n",
    "from sklearn.datasets import load_digits\n",
    "from sklearn.ensemble import RandomForestClassifier\n",
    "from sklearn.ensemble import RandomForestClassifier, AdaBoostClassifier\n",
    "from sklearn import cross_validation, linear_model\n",
    "from sklearn.externals import joblib\n",
    "%matplotlib inline "
   ]
  },
  {
   "cell_type": "code",
   "execution_count": 2,
   "metadata": {
    "collapsed": true
   },
   "outputs": [],
   "source": [
    "Tr1 = pd.read_csv('train_fold_1.csv')\n",
    "X1 = Tr1[['Fusobacterium nucleatum_1','Fusobacterium nucleatum_2','Peptostreptococcus stomatis','Porphyromonas','Clostridium symbiosum','Clostridium hylemonae','Phascolarctobacterium succinatutens','unnamed Ruminococcus sp. 5_1_39BFAA','unnamed Ruminococcus sp. SR1/5','Streptococcus salivarius','Bacteroides dorei/vulgatus','Ruminococcus bromii','Bacteroides uniformis','Eubacterium rectale','Prevotella copri','butyrate-producing bacterium','Escherichia coli','Alistipes putredinis','Methanobrevibacter smithii','Parabacteroides distasonis','Faecalibacterium prausnitzii','Eubacterium eligens','Butyrivibrio crossotus','[Ruminococcus] torques','Bacteroides ovatus','Bifidobacterium longum','Faecalibacterium prausnitzii']].values\n",
    "y1 = Tr1['Group'].values"
   ]
  },
  {
   "cell_type": "code",
   "execution_count": 4,
   "metadata": {
    "collapsed": false
   },
   "outputs": [],
   "source": [
    "EG = pd.read_csv('TrustYourGut_input_example.csv')\n",
    "Xeg = EG[['Fusobacterium nucleatum_1','Fusobacterium nucleatum_2','Peptostreptococcus stomatis','Porphyromonas','Clostridium symbiosum','Clostridium hylemonae','Phascolarctobacterium succinatutens','unnamed Ruminococcus sp. 5_1_39BFAA','unnamed Ruminococcus sp. SR1/5','Streptococcus salivarius','Bacteroides dorei/vulgatus','Ruminococcus bromii','Bacteroides uniformis','Eubacterium rectale','Prevotella copri','butyrate-producing bacterium','Escherichia coli','Alistipes putredinis','Methanobrevibacter smithii','Parabacteroides distasonis','Faecalibacterium prausnitzii','Eubacterium eligens','Butyrivibrio crossotus','[Ruminococcus] torques','Bacteroides ovatus','Bifidobacterium longum','Faecalibacterium prausnitzii']].values"
   ]
  }
 ],
 "metadata": {
  "kernelspec": {
   "display_name": "Python [default]",
   "language": "python",
   "name": "python2"
  },
  "language_info": {
   "codemirror_mode": {
    "name": "ipython",
    "version": 2
   },
   "file_extension": ".py",
   "mimetype": "text/x-python",
   "name": "python",
   "nbconvert_exporter": "python",
   "pygments_lexer": "ipython2",
   "version": "2.7.13"
  }
 },
 "nbformat": 4,
 "nbformat_minor": 2
}

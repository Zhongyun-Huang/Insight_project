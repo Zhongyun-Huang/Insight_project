{
 "cells": [
  {
   "cell_type": "markdown",
   "metadata": {},
   "source": [
    "# Random Forest Classifier for Gut Microbe Project\n",
    "#### Author: Julie Huang ####\n",
    "Input:\n",
    "   1. Training samples (train_valid.csv)\n",
    "   2. Test samples (XXXX.csv)\n",
    "Model: \n",
    "   Random Forest\n",
    "Output:\n",
    "   A score on one test sample"
   ]
  },
  {
   "cell_type": "code",
   "execution_count": 443,
   "metadata": {
    "collapsed": true
   },
   "outputs": [],
   "source": [
    "import numpy as np\n",
    "import scipy as sp\n",
    "import pandas as pd\n",
    "import statsmodels.api as sm\n",
    "import matplotlib.pyplot as plt\n",
    "#import imblearn\n",
    "from patsy import dmatrices\n",
    "from sklearn.linear_model import LogisticRegression\n",
    "from sklearn.cross_validation import train_test_split\n",
    "from sklearn import metrics\n",
    "from sklearn.cross_validation import cross_val_score\n",
    "from sklearn import metrics\n",
    "%matplotlib inline \n",
    "from sklearn.externals import joblib # pickle related "
   ]
  },
  {
   "cell_type": "code",
   "execution_count": 403,
   "metadata": {
    "collapsed": true
   },
   "outputs": [],
   "source": [
    "train_gut = pd.read_csv('train_valid.csv')\n",
    "#/Users/zybell/Dropbox/Insight_project/train_vaild.csv"
   ]
  },
  {
   "cell_type": "code",
   "execution_count": 444,
   "metadata": {
    "collapsed": true
   },
   "outputs": [],
   "source": [
    "### Use cross validation strategy, small size of the data\n",
    "### Test data locked in a vault\n",
    "\n",
    "X2 = train_gut[['SP1','SP2','SP3','SP4','SP5','SP6','SP7','SP8','SP9','SP10']].values\n",
    "y = train_gut['Group'].values\n",
    "\n",
    "## Build cross-validation iteration \n",
    "from sklearn import cross_validation, linear_model\n",
    "cv = cross_validation.ShuffleSplit(len(y), n_iter=5,test_size=0.3)"
   ]
  },
  {
   "cell_type": "code",
   "execution_count": 445,
   "metadata": {
    "collapsed": false
   },
   "outputs": [
    {
     "data": {
      "text/plain": [
       "array([0, 0, 0, 0, 0, 0, 0, 0, 0, 0, 0, 0, 0, 0, 0, 0, 0, 0, 0, 0, 0, 0, 0,\n",
       "       0, 0, 0, 0, 0, 0, 0, 0, 0, 0, 0, 0, 0, 0, 0, 0, 0, 0, 0, 0, 0, 0, 0,\n",
       "       0, 0, 0, 0, 0, 0, 0, 0, 0, 0, 0, 0, 0, 0, 0, 0, 0, 0, 0, 0, 0, 0, 0,\n",
       "       0, 0, 1, 1, 1, 1, 1, 1, 1, 1, 1, 1, 1, 1, 1, 1, 1, 1, 1, 1, 1, 1, 1,\n",
       "       1, 1, 1, 1, 1, 1, 1, 1, 1, 1, 1, 1, 1, 1, 1, 1, 1, 1, 1, 1, 1, 1])"
      ]
     },
     "execution_count": 445,
     "metadata": {},
     "output_type": "execute_result"
    }
   ],
   "source": [
    "y"
   ]
  },
  {
   "cell_type": "code",
   "execution_count": 459,
   "metadata": {
    "collapsed": false
   },
   "outputs": [
    {
     "data": {
      "text/plain": [
       "(0.80000000000000004, 0.036140316116210026)"
      ]
     },
     "execution_count": 459,
     "metadata": {},
     "output_type": "execute_result"
    }
   ],
   "source": [
    "from sklearn.ensemble import RandomForestClassifier, AdaBoostClassifier\n",
    "rf = RandomForestClassifier(max_depth=5, n_estimators=100, max_features=1)\n",
    "RF = rf.fit(X2, y) #model fitting\n",
    "\n",
    "scores_RF = cross_validation.cross_val_score(RF,X2, y, cv=cv)\n",
    "scores_RF.mean(), scores_RF.std()"
   ]
  },
  {
   "cell_type": "code",
   "execution_count": 461,
   "metadata": {
    "collapsed": false
   },
   "outputs": [],
   "source": [
    "RF_score = rf.score(X2, y) #New"
   ]
  },
  {
   "cell_type": "code",
   "execution_count": 462,
   "metadata": {
    "collapsed": false
   },
   "outputs": [
    {
     "data": {
      "text/plain": [
       "array([0, 0, 0, 0, 0, 0, 0, 0, 0, 0, 0, 0, 0, 0, 0, 0, 0, 0, 0, 0, 0, 0, 0,\n",
       "       0, 0, 0, 0, 0, 0, 0, 0, 0, 0, 0, 0, 0, 0, 0, 0, 0, 0, 0, 0, 0, 0, 0,\n",
       "       0, 0, 0, 0, 0, 0, 0, 0, 0, 0, 0, 0, 0, 0, 0, 0, 0, 0, 0, 0, 0, 0, 0,\n",
       "       0, 0, 1, 1, 1, 1, 1, 1, 1, 1, 1, 1, 1, 1, 1, 1, 1, 1, 1, 1, 1, 1, 1,\n",
       "       1, 1, 1, 1, 1, 1, 1, 1, 1, 1, 1, 1, 1, 1, 1, 1, 1, 1, 1, 1, 1, 1])"
      ]
     },
     "execution_count": 462,
     "metadata": {},
     "output_type": "execute_result"
    }
   ],
   "source": [
    "y"
   ]
  },
  {
   "cell_type": "code",
   "execution_count": 463,
   "metadata": {
    "collapsed": false
   },
   "outputs": [
    {
     "data": {
      "text/plain": [
       "array([ 0.22294792,  0.11814574,  0.30106859,  0.17442913,  0.2997165 ,\n",
       "        0.15542859,  0.17938133,  0.09240094,  0.17501444,  0.32509572,\n",
       "        0.41321261,  0.29850083,  0.17883154,  0.25604315,  0.17857484,\n",
       "        0.12754911,  0.14928824,  0.10411105,  0.21749862,  0.14928824,\n",
       "        0.11200539,  0.315642  ,  0.19327815,  0.1302691 ,  0.14928824,\n",
       "        0.21644301,  0.17501444,  0.20078264,  0.22871432,  0.09890888,\n",
       "        0.13714627,  0.21612903,  0.12754911,  0.1588854 ,  0.11200539,\n",
       "        0.22252177,  0.16570527,  0.11200539,  0.2282047 ,  0.0697183 ,\n",
       "        0.21897768,  0.39385965,  0.17169768,  0.32237568,  0.11814574,\n",
       "        0.29736403,  0.11414007,  0.09026626,  0.12754911,  0.10928539,\n",
       "        0.29557151,  0.10928539,  0.17501444,  0.19358473,  0.09026626,\n",
       "        0.14630472,  0.17571301,  0.21462986,  0.09587635,  0.19055816,\n",
       "        0.31331707,  0.20683195,  0.21342607,  0.07955345,  0.14744156,\n",
       "        0.11200539,  0.14928824,  0.27695343,  0.1576422 ,  0.12754911,\n",
       "        0.16570527,  0.61612903,  0.94358974,  0.66200802,  0.18131252,\n",
       "        0.79247254,  1.        ,  0.9       ,  0.74385965,  0.50118548,\n",
       "        0.40732196,  0.71707675,  0.97692308,  0.9       ,  0.78465086,\n",
       "        1.        ,  0.74149184,  1.        ,  0.19327815,  0.66022616,\n",
       "        0.75358073,  0.72945253,  0.96666667,  0.26696706,  0.21229729,\n",
       "        0.30177098,  0.7185595 ,  0.68263636,  0.93636364,  0.9469697 ,\n",
       "        0.51954085,  0.9       ,  0.68677072,  0.90434783,  0.71497585,\n",
       "        0.26044194,  0.6327957 ,  0.34717964,  0.73497653,  0.56341613,\n",
       "        0.16921578,  0.41599954,  0.61612903,  0.20343396])"
      ]
     },
     "execution_count": 463,
     "metadata": {},
     "output_type": "execute_result"
    }
   ],
   "source": [
    "proba_X2_train = RF.predict_proba (X2)\n",
    "proba_X2_train[:, 1]\n",
    "#bin_X2_train\n",
    "#bin_X2_train.transpose()\n",
    "#bin_X2_train.transpose()[0]  #New\n",
    "#len(bin_X2_train.transpose()[0])"
   ]
  },
  {
   "cell_type": "code",
   "execution_count": 493,
   "metadata": {
    "collapsed": false
   },
   "outputs": [
    {
     "data": {
      "text/plain": [
       "0.94382574516868656"
      ]
     },
     "execution_count": 493,
     "metadata": {},
     "output_type": "execute_result"
    }
   ],
   "source": [
    "from sklearn.metrics import roc_curve, auc  ##Make roc curve ##  ##new##\n",
    "#fpr, tpr, thresholds = metrics.roc_curve(y, proba_X2_train[:, 1]) ##roc##\n",
    "fpr, tpr, thresholds = roc_curve(y, proba_X2_train[:, 1])\n",
    "from sklearn.metrics import roc_auc_score ##roc auc##\n",
    "roc_auc_score = roc_auc_score(y, proba_X2_train[:,1])\n",
    "roc_auc_score"
   ]
  },
  {
   "cell_type": "code",
   "execution_count": 465,
   "metadata": {
    "collapsed": false
   },
   "outputs": [
    {
     "data": {
      "text/plain": [
       "array([ 0.06976744,  0.20930233,  0.27906977,  0.62790698,  0.6744186 ,\n",
       "        0.76744186,  0.76744186,  0.79069767,  0.79069767,  0.81395349,\n",
       "        0.81395349,  0.8372093 ,  0.8372093 ,  0.88372093,  0.88372093,\n",
       "        0.90697674,  0.90697674,  0.93023256,  0.93023256,  0.95348837,\n",
       "        0.95348837,  0.97674419,  0.97674419,  0.97674419,  0.97674419,\n",
       "        1.        ,  1.        ,  1.        ,  1.        ,  1.        ,\n",
       "        1.        ,  1.        ,  1.        ,  1.        ,  1.        ,\n",
       "        1.        ,  1.        ,  1.        ])"
      ]
     },
     "execution_count": 465,
     "metadata": {},
     "output_type": "execute_result"
    }
   ],
   "source": [
    "tpr"
   ]
  },
  {
   "cell_type": "code",
   "execution_count": 494,
   "metadata": {
    "collapsed": false
   },
   "outputs": [
    {
     "data": {
      "image/png": "[encoded data removed]",
      "text/plain": [
       "<matplotlib.figure.Figure at 0x11a4161d0>"
      ]
     },
     "metadata": {},
     "output_type": "display_data"
    }
   ],
   "source": [
    "### In this part, I used the training + validation set for the ROC curve\n",
    "plt.figure()\n",
    "lw = 2\n",
    "plt.plot(fpr, tpr, color='darkorange',\n",
    "         lw=lw, label='ROC curve (area = %0.2f)' % roc_auc_score)\n",
    "plt.plot([0, 1], [0, 1], color='navy', lw=lw, linestyle='--')\n",
    "plt.xlim([-0.05, 1.0])\n",
    "plt.ylim([-0.05, 1.05])\n",
    "plt.xlabel('False Positive Rate')\n",
    "plt.ylabel('True Positive Rate')\n",
    "plt.title('Receiver operating characteristic for gut microbe with training+validation data')\n",
    "plt.legend(loc=\"lower right\")\n",
    "plt.show()"
   ]
  },
  {
   "cell_type": "code",
   "execution_count": null,
   "metadata": {
    "collapsed": true
   },
   "outputs": [],
   "source": []
  },
  {
   "cell_type": "code",
   "execution_count": 467,
   "metadata": {
    "collapsed": false
   },
   "outputs": [
    {
     "data": {
      "text/plain": [
       "0.90350877192982459"
      ]
     },
     "execution_count": 467,
     "metadata": {},
     "output_type": "execute_result"
    }
   ],
   "source": [
    "RF_score"
   ]
  },
  {
   "cell_type": "code",
   "execution_count": 468,
   "metadata": {
    "collapsed": true
   },
   "outputs": [],
   "source": [
    "test_1 = pd.read_csv('test_1.csv')"
   ]
  },
  {
   "cell_type": "code",
   "execution_count": 469,
   "metadata": {
    "collapsed": false
   },
   "outputs": [],
   "source": [
    "Shermin = test_1[['SP1','SP2','SP3','SP4','SP5','SP6','SP7','SP8','SP9','SP10']].values\n",
    "y_Shermin = test_1['Group'].values"
   ]
  },
  {
   "cell_type": "code",
   "execution_count": 470,
   "metadata": {
    "collapsed": false
   },
   "outputs": [
    {
     "data": {
      "text/plain": [
       "array([[  0.00000000e+00,   0.00000000e+00,   1.06000000e-05,\n",
       "          0.00000000e+00,   0.00000000e+00,   0.00000000e+00,\n",
       "          1.32066900e-02,   1.29329830e-02,   5.09617200e-03,\n",
       "          2.80748000e-04]])"
      ]
     },
     "execution_count": 470,
     "metadata": {},
     "output_type": "execute_result"
    }
   ],
   "source": [
    "Shermin"
   ]
  },
  {
   "cell_type": "code",
   "execution_count": 471,
   "metadata": {
    "collapsed": false
   },
   "outputs": [
    {
     "data": {
      "text/plain": [
       "array([0])"
      ]
     },
     "execution_count": 471,
     "metadata": {},
     "output_type": "execute_result"
    }
   ],
   "source": [
    "RF.predict (Shermin)"
   ]
  },
  {
   "cell_type": "code",
   "execution_count": 472,
   "metadata": {
    "collapsed": false
   },
   "outputs": [
    {
     "data": {
      "text/plain": [
       "array([[ 0.72460789,  0.27539211]])"
      ]
     },
     "execution_count": 472,
     "metadata": {},
     "output_type": "execute_result"
    }
   ],
   "source": [
    "RF.predict_proba (Shermin)"
   ]
  },
  {
   "cell_type": "code",
   "execution_count": 473,
   "metadata": {
    "collapsed": true
   },
   "outputs": [],
   "source": [
    "test_2 = pd.read_csv('test_2.csv')\n",
    "Julie = test_2[['SP1','SP2','SP3','SP4','SP5','SP6','SP7','SP8','SP9','SP10']].values\n",
    "y_Julie = test_2['Group'].values"
   ]
  },
  {
   "cell_type": "code",
   "execution_count": 474,
   "metadata": {
    "collapsed": false
   },
   "outputs": [
    {
     "data": {
      "text/plain": [
       "array([1])"
      ]
     },
     "execution_count": 474,
     "metadata": {},
     "output_type": "execute_result"
    }
   ],
   "source": [
    "y_Julie"
   ]
  },
  {
   "cell_type": "code",
   "execution_count": 475,
   "metadata": {
    "collapsed": false
   },
   "outputs": [
    {
     "data": {
      "text/plain": [
       "array([[  0.00000000e+00,   0.00000000e+00,   0.00000000e+00,\n",
       "          0.00000000e+00,   5.26537100e-03,   0.00000000e+00,\n",
       "          1.21000000e-05,   0.00000000e+00,   0.00000000e+00,\n",
       "          3.54000000e-05]])"
      ]
     },
     "execution_count": 475,
     "metadata": {},
     "output_type": "execute_result"
    }
   ],
   "source": [
    "Julie"
   ]
  },
  {
   "cell_type": "code",
   "execution_count": 476,
   "metadata": {
    "collapsed": false
   },
   "outputs": [
    {
     "data": {
      "text/plain": [
       "array([[ 0.36502347,  0.63497653]])"
      ]
     },
     "execution_count": 476,
     "metadata": {},
     "output_type": "execute_result"
    }
   ],
   "source": [
    "RF.predict_proba (Julie)"
   ]
  },
  {
   "cell_type": "code",
   "execution_count": 477,
   "metadata": {
    "collapsed": true
   },
   "outputs": [],
   "source": [
    "bulk_test = pd.read_csv('gut_test.csv')\n",
    "X2_bt = bulk_test[['SP1','SP2','SP3','SP4','SP5','SP6','SP7','SP8','SP9','SP10']].values\n",
    "y_bt = bulk_test['Group'].values"
   ]
  },
  {
   "cell_type": "code",
   "execution_count": 478,
   "metadata": {
    "collapsed": false
   },
   "outputs": [
    {
     "data": {
      "text/plain": [
       "array([[ 0.72460789,  0.27539211],\n",
       "       [ 0.77065836,  0.22934164],\n",
       "       [ 0.82498556,  0.17501444],\n",
       "       [ 0.82770556,  0.17229444],\n",
       "       [ 0.92586278,  0.07413722],\n",
       "       [ 0.83429473,  0.16570527],\n",
       "       [ 0.80529612,  0.19470388],\n",
       "       [ 0.88799461,  0.11200539],\n",
       "       [ 0.86684079,  0.13315921],\n",
       "       [ 0.55512864,  0.44487136],\n",
       "       [ 0.80944184,  0.19055816],\n",
       "       [ 0.86664534,  0.13335466],\n",
       "       [ 0.60149917,  0.39850083],\n",
       "       [ 0.92756171,  0.07243829],\n",
       "       [ 0.81495481,  0.18504519],\n",
       "       [ 0.94510087,  0.05489913],\n",
       "       [ 0.60149917,  0.39850083],\n",
       "       [ 0.67922979,  0.32077021],\n",
       "       [ 0.36363636,  0.63636364],\n",
       "       [ 0.36502347,  0.63497653],\n",
       "       [ 0.39001132,  0.60998868],\n",
       "       [ 0.18141026,  0.81858974],\n",
       "       [ 0.31969697,  0.68030303],\n",
       "       [ 0.72652198,  0.27347802],\n",
       "       [ 0.64613022,  0.35386978],\n",
       "       [ 0.68799301,  0.31200699],\n",
       "       [ 0.72053892,  0.27946108]])"
      ]
     },
     "execution_count": 478,
     "metadata": {},
     "output_type": "execute_result"
    }
   ],
   "source": [
    "RF.predict_proba(X2_bt) #predict for the bulk #print out probability"
   ]
  },
  {
   "cell_type": "code",
   "execution_count": 479,
   "metadata": {
    "collapsed": false
   },
   "outputs": [
    {
     "data": {
      "text/plain": [
       "array([0, 0, 0, 0, 0, 0, 0, 0, 0, 0, 0, 0, 0, 0, 0, 0, 0, 1, 1, 1, 1, 1, 1,\n",
       "       1, 1, 1, 1])"
      ]
     },
     "execution_count": 479,
     "metadata": {},
     "output_type": "execute_result"
    }
   ],
   "source": [
    "y_bt\n",
    "###array([0, 0, 0, 0, 0, 0, 0, 0, 0, 0, 0, 0, 0, 0, 0, 0, 0, 1, 1, 1, 1, 1, 1, 1, 1, 1, 1#])###"
   ]
  },
  {
   "cell_type": "code",
   "execution_count": 480,
   "metadata": {
    "collapsed": false
   },
   "outputs": [
    {
     "data": {
      "text/plain": [
       "array([0, 0, 0, 0, 0, 0, 0, 0, 0, 0, 0, 0, 0, 0, 0, 0, 0, 0, 1, 1, 1, 1, 1,\n",
       "       0, 0, 0, 0])"
      ]
     },
     "execution_count": 480,
     "metadata": {},
     "output_type": "execute_result"
    }
   ],
   "source": [
    "RF.predict(X2_bt)\n",
    "###array([0, 0, 0, 0, 0, 0, 0, 0, 0, 0, 0, 0, 0, 0, 0, 0, 0, 0, 1, 1, 1, 1, 1, 0, 0, 1, 1#])###"
   ]
  },
  {
   "cell_type": "code",
   "execution_count": 481,
   "metadata": {
    "collapsed": false
   },
   "outputs": [
    {
     "data": {
      "text/plain": [
       "0.90588235294117636"
      ]
     },
     "execution_count": 481,
     "metadata": {},
     "output_type": "execute_result"
    }
   ],
   "source": [
    "## Use X2_bt, the test data for ROC curve, and plot ROC curve\n",
    "RF_predict_test = RF.predict_proba(X2_bt)[:,1]  #Proba prediction  \n",
    "fpr_t, tpr_t, thresholds_t = roc_curve(y_bt, RF_predict_test)\n",
    "\n",
    "from sklearn.metrics import roc_auc_score ##roc auc##\n",
    "roc_auc_score_t = roc_auc_score(y_bt, RF_predict_test)\n",
    "roc_auc_score_t"
   ]
  },
  {
   "cell_type": "code",
   "execution_count": 482,
   "metadata": {
    "collapsed": false
   },
   "outputs": [
    {
     "data": {
      "image/png": "[encoded data removed]",
      "text/plain": [
       "<matplotlib.figure.Figure at 0x11a2377d0>"
      ]
     },
     "metadata": {},
     "output_type": "display_data"
    }
   ],
   "source": [
    "plt.figure()\n",
    "lw = 2\n",
    "plt.plot(fpr_t, tpr_t, color='darkorange',\n",
    "         lw=lw, label='ROC curve (area = %0.2f)' % roc_auc_score_t)\n",
    "plt.plot([0, 1], [0, 1], color='navy', lw=lw, linestyle='--')\n",
    "plt.plot(fpr,tpr,color = 'red',lw=lw)  ## How to add roc_auc_score?\n",
    "plt.xlim([-0.05, 1.0])\n",
    "plt.ylim([-0.05, 1.05])\n",
    "plt.xlabel('False Positive Rate')\n",
    "plt.ylabel('True Positive Rate')\n",
    "plt.title('Receiver operating characteristic for gut microbe with test data')\n",
    "plt.legend(loc=\"lower right\")\n",
    "plt.show()"
   ]
  },
  {
   "cell_type": "code",
   "execution_count": 483,
   "metadata": {
    "collapsed": false
   },
   "outputs": [],
   "source": [
    "### This part of the code is to plot the ROC curve along with the Logistic Regression for comparison\n",
    "### To have the parameters of LR, we still need to repeat the fit here\n",
    "cv = cross_validation.ShuffleSplit(len(y), n_iter=5,test_size=0.3)\n",
    "#LR= linear_model.LogisticRegression.fit(X2,y)\n",
    "LR = linear_model.LogisticRegression()\n",
    "lr = LR.fit(X2,y)\n",
    "#lr.predict(X2)\n",
    "LR_predict_test = lr.predict_proba(X2_bt)[:,1] \n",
    "LR_predict_test\n",
    "#scores_lr = cross_validation.cross_val_score(LR,X2, y, cv=cv)\n",
    "#scores_lr.mean(), scores_lr.std()\n",
    "fpr_l, tpr_l, thresholds_l = roc_curve(y_bt, LR_predict_test)\n",
    "roc_auc_score_l = roc_auc_score(y_bt, LR_predict_test)"
   ]
  },
  {
   "cell_type": "code",
   "execution_count": 484,
   "metadata": {
    "collapsed": false
   },
   "outputs": [
    {
     "data": {
      "image/png": "[encoded data removed]",
      "text/plain": [
       "<matplotlib.figure.Figure at 0x11b22fe90>"
      ]
     },
     "metadata": {},
     "output_type": "display_data"
    }
   ],
   "source": [
    "plt.figure()\n",
    "lw = 2\n",
    "plt.plot(fpr_t, tpr_t, color='darkorange',\n",
    "         lw=lw, label='ROC curve RF(area = %0.2f)' % roc_auc_score_t)\n",
    "plt.plot([0, 1], [0, 1], color='navy', lw=lw, linestyle='--')\n",
    "plt.plot(fpr_l,tpr_l,color = 'cyan',\n",
    "         lw=lw, label='ROC curve LR(area = %0.2f)' % roc_auc_score_l)  ## How to add roc_auc_score?\n",
    "plt.xlim([-0.05, 1.0])\n",
    "plt.ylim([-0.05, 1.05])\n",
    "plt.xlabel('False Positive Rate')\n",
    "plt.ylabel('True Positive Rate')\n",
    "plt.title('Receiver operating characteristic for gut microbe with test data')\n",
    "plt.legend(loc=\"lower right\")\n",
    "plt.show()"
   ]
  },
  {
   "cell_type": "code",
   "execution_count": 486,
   "metadata": {
    "collapsed": false
   },
   "outputs": [
    {
     "name": "stdout",
     "output_type": "stream",
     "text": [
      "0.814814814815\n"
     ]
    }
   ],
   "source": [
    "acc = (y_bt == RF.predict(X2_bt))\n",
    "#RF.predict(X2_bt)\n",
    "print np.mean(acc)\n",
    "# 0.89"
   ]
  },
  {
   "cell_type": "code",
   "execution_count": 487,
   "metadata": {
    "collapsed": false
   },
   "outputs": [
    {
     "data": {
      "text/plain": [
       "['gut_app/fit_models/Random_Forest.pkl',\n",
       " 'gut_app/fit_models/Random_Forest.pkl_01.npy',\n",
       " 'gut_app/fit_models/Random_Forest.pkl_02.npy',\n",
       " 'gut_app/fit_models/Random_Forest.pkl_03.npy',\n",
       " 'gut_app/fit_models/Random_Forest.pkl_04.npy',\n",
       " 'gut_app/fit_models/Random_Forest.pkl_05.npy',\n",
       " 'gut_app/fit_models/Random_Forest.pkl_06.npy',\n",
       " 'gut_app/fit_models/Random_Forest.pkl_07.npy',\n",
       " 'gut_app/fit_models/Random_Forest.pkl_08.npy',\n",
       " 'gut_app/fit_models/Random_Forest.pkl_09.npy',\n",
       " 'gut_app/fit_models/Random_Forest.pkl_10.npy',\n",
       " 'gut_app/fit_models/Random_Forest.pkl_11.npy',\n",
       " 'gut_app/fit_models/Random_Forest.pkl_12.npy',\n",
       " 'gut_app/fit_models/Random_Forest.pkl_13.npy',\n",
       " 'gut_app/fit_models/Random_Forest.pkl_14.npy',\n",
       " 'gut_app/fit_models/Random_Forest.pkl_15.npy',\n",
       " 'gut_app/fit_models/Random_Forest.pkl_16.npy',\n",
       " 'gut_app/fit_models/Random_Forest.pkl_17.npy',\n",
       " 'gut_app/fit_models/Random_Forest.pkl_18.npy',\n",
       " 'gut_app/fit_models/Random_Forest.pkl_19.npy',\n",
       " 'gut_app/fit_models/Random_Forest.pkl_20.npy',\n",
       " 'gut_app/fit_models/Random_Forest.pkl_21.npy',\n",
       " 'gut_app/fit_models/Random_Forest.pkl_22.npy',\n",
       " 'gut_app/fit_models/Random_Forest.pkl_23.npy',\n",
       " 'gut_app/fit_models/Random_Forest.pkl_24.npy',\n",
       " 'gut_app/fit_models/Random_Forest.pkl_25.npy',\n",
       " 'gut_app/fit_models/Random_Forest.pkl_26.npy',\n",
       " 'gut_app/fit_models/Random_Forest.pkl_27.npy',\n",
       " 'gut_app/fit_models/Random_Forest.pkl_28.npy',\n",
       " 'gut_app/fit_models/Random_Forest.pkl_29.npy',\n",
       " 'gut_app/fit_models/Random_Forest.pkl_30.npy',\n",
       " 'gut_app/fit_models/Random_Forest.pkl_31.npy',\n",
       " 'gut_app/fit_models/Random_Forest.pkl_32.npy',\n",
       " 'gut_app/fit_models/Random_Forest.pkl_33.npy',\n",
       " 'gut_app/fit_models/Random_Forest.pkl_34.npy',\n",
       " 'gut_app/fit_models/Random_Forest.pkl_35.npy',\n",
       " 'gut_app/fit_models/Random_Forest.pkl_36.npy',\n",
       " 'gut_app/fit_models/Random_Forest.pkl_37.npy',\n",
       " 'gut_app/fit_models/Random_Forest.pkl_38.npy',\n",
       " 'gut_app/fit_models/Random_Forest.pkl_39.npy',\n",
       " 'gut_app/fit_models/Random_Forest.pkl_40.npy',\n",
       " 'gut_app/fit_models/Random_Forest.pkl_41.npy']"
      ]
     },
     "execution_count": 487,
     "metadata": {},
     "output_type": "execute_result"
    }
   ],
   "source": [
    "## Pickle the final model for web app \n",
    "\n",
    "joblib.dump(RF, 'gut_app/fit_models/Random_Forest.pkl')  #pickle related"
   ]
  },
  {
   "cell_type": "code",
   "execution_count": 488,
   "metadata": {
    "collapsed": true
   },
   "outputs": [],
   "source": [
    "###RF=joblib.load('gut_app/fit_models/Random_Forest.pkl')"
   ]
  },
  {
   "cell_type": "code",
   "execution_count": 490,
   "metadata": {
    "collapsed": false
   },
   "outputs": [
    {
     "data": {
      "text/plain": [
       "0.5"
      ]
     },
     "execution_count": 490,
     "metadata": {},
     "output_type": "execute_result"
    }
   ],
   "source": [
    "### Here we test the recall score. Recall score is a good measurement of false negative rate\n",
    "\n",
    "from sklearn import metrics\n",
    "from sklearn.metrics import recall_score\n",
    "#RF_recall = recall_score(y_bt, RF_predict_test) ##Recall for test data using RandomForest\n",
    "#sklearn.metrics.recall_score(y_bt, RF_predict_test)\n",
    "recall_score(y_bt, RF.predict(X2_bt))\n",
    "#0.69"
   ]
  },
  {
   "cell_type": "code",
   "execution_count": 491,
   "metadata": {
    "collapsed": false
   },
   "outputs": [
    {
     "data": {
      "text/plain": [
       "array([0, 0, 0, 0, 0, 0, 0, 0, 0, 0, 0, 0, 0, 0, 0, 0, 0, 0, 0, 0, 0, 0, 0,\n",
       "       0, 0, 0, 0, 0, 0, 0, 0, 0, 0, 0, 0, 0, 0, 0, 0, 0, 0, 0, 0, 0, 0, 0,\n",
       "       0, 0, 0, 0, 0, 0, 0, 0, 0, 0, 0, 0, 0, 0, 0, 0, 0, 0, 0, 0, 0, 0, 0,\n",
       "       0, 0, 0, 0, 0, 0, 0, 0, 0, 0, 0, 0, 0, 0, 0, 0, 0, 0, 0, 0, 0, 0, 0,\n",
       "       0, 0, 0, 0, 0, 0, 0, 0, 0, 0, 0, 0, 0, 0, 0, 0, 0, 0, 0, 0, 0, 0])"
      ]
     },
     "execution_count": 491,
     "metadata": {},
     "output_type": "execute_result"
    }
   ],
   "source": [
    "#recall_score(y_bt,lr.predict(X2_bt)) \n",
    "lr.predict(X2)"
   ]
  },
  {
   "cell_type": "code",
   "execution_count": null,
   "metadata": {
    "collapsed": true
   },
   "outputs": [],
   "source": []
  }
 ],
 "metadata": {
  "anaconda-cloud": {},
  "kernelspec": {
   "display_name": "Python [conda root]",
   "language": "python",
   "name": "conda-root-py"
  },
  "language_info": {
   "codemirror_mode": {
    "name": "ipython",
    "version": 2
   },
   "file_extension": ".py",
   "mimetype": "text/x-python",
   "name": "python",
   "nbconvert_exporter": "python",
   "pygments_lexer": "ipython2",
   "version": "2.7.13"
  }
 },
 "nbformat": 4,
 "nbformat_minor": 1
}

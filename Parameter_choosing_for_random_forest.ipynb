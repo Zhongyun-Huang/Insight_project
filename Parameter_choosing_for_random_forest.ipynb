{
 "cells": [
  {
   "cell_type": "markdown",
   "metadata": {},
   "source": [
    "# Mini grid search for Random Forest\n",
    "Chooose the best hyperparameters that fit gut microbe model"
   ]
  },
  {
   "cell_type": "code",
   "execution_count": 6,
   "metadata": {
    "collapsed": false
   },
   "outputs": [
    {
     "name": "stdout",
     "output_type": "stream",
     "text": [
      "Automatically created module for IPython interactive environment\n"
     ]
    }
   ],
   "source": [
    "print(__doc__)\n",
    "\n",
    "import numpy as np\n",
    "import numpy as np\n",
    "import scipy as sp\n",
    "import pandas as pd\n",
    "import statsmodels.api as sm\n",
    "import matplotlib.pyplot as plt\n",
    "from time import time\n",
    "from scipy.stats import randint as sp_randint\n",
    "from sklearn.model_selection import GridSearchCV\n",
    "from sklearn.model_selection import RandomizedSearchCV\n",
    "from sklearn.datasets import load_digits\n",
    "from sklearn.ensemble import RandomForestClassifier\n",
    "from sklearn.ensemble import RandomForestClassifier, AdaBoostClassifier\n",
    "%matplotlib inline "
   ]
  },
  {
   "cell_type": "code",
   "execution_count": 9,
   "metadata": {
    "collapsed": false
   },
   "outputs": [],
   "source": [
    "train_gut = pd.read_csv('train_valid.csv')\n",
    "X2 = train_gut[['SP1','SP2','SP3','SP4','SP5','SP6','SP7','SP8','SP9','SP10']].values\n",
    "y = train_gut['Group'].values\n",
    "from sklearn import cross_validation, linear_model\n",
    "cv = cross_validation.ShuffleSplit(len(y), n_iter=50,test_size=0.3)"
   ]
  },
  {
   "cell_type": "markdown",
   "metadata": {},
   "source": [
    "### Play with the n.estimates\n"
   ]
  },
  {
   "cell_type": "code",
   "execution_count": 18,
   "metadata": {
    "collapsed": false
   },
   "outputs": [
    {
     "data": {
      "text/plain": [
       "(0.76342857142857146, 0.048162988584469678)"
      ]
     },
     "execution_count": 18,
     "metadata": {},
     "output_type": "execute_result"
    }
   ],
   "source": [
    "rf_10 = RandomForestClassifier(max_depth=5, n_estimators=10, max_features=1)  #n_estimator = 10\n",
    "RF_10 = rf_10.fit(X2, y) #model fitting\n",
    "scores_RF_10 = cross_validation.cross_val_score(RF_10,X2, y, cv=cv)\n",
    "scores_RF_10.mean(), scores_RF_10.std()"
   ]
  },
  {
   "cell_type": "code",
   "execution_count": 16,
   "metadata": {
    "collapsed": false
   },
   "outputs": [
    {
     "data": {
      "text/plain": [
       "(0.78514285714285714, 0.06187281226806475)"
      ]
     },
     "execution_count": 16,
     "metadata": {},
     "output_type": "execute_result"
    }
   ],
   "source": [
    "rf_50 = RandomForestClassifier(max_depth=5, n_estimators=50, max_features=1)  #n_estimator = 50\n",
    "RF_50 = rf_50.fit(X2, y) #model fitting\n",
    "scores_RF_50 = cross_validation.cross_val_score(RF_50,X2, y, cv=cv)\n",
    "scores_RF_50.mean(), scores_RF_50.std()\n",
    "## N_estimator = 50 seems to be the best\n",
    "## Adding more "
   ]
  },
  {
   "cell_type": "code",
   "execution_count": 17,
   "metadata": {
    "collapsed": false
   },
   "outputs": [
    {
     "data": {
      "text/plain": [
       "(0.78685714285714281, 0.056340075271804978)"
      ]
     },
     "execution_count": 17,
     "metadata": {},
     "output_type": "execute_result"
    }
   ],
   "source": [
    "rf_100 = RandomForestClassifier(max_depth=5, n_estimators=100, max_features=1)  #n_estimator = 100\n",
    "RF_100 = rf_100.fit(X2, y) #model fitting\n",
    "scores_RF_100 = cross_validation.cross_val_score(RF_100,X2, y, cv=cv)\n",
    "scores_RF_100.mean(), scores_RF_100.std()"
   ]
  },
  {
   "cell_type": "code",
   "execution_count": 20,
   "metadata": {
    "collapsed": false
   },
   "outputs": [
    {
     "data": {
      "text/plain": [
       "(0.80228571428571427, 0.060431104303553286)"
      ]
     },
     "execution_count": 20,
     "metadata": {},
     "output_type": "execute_result"
    }
   ],
   "source": [
    "rf_1000 = RandomForestClassifier(max_depth=5, n_estimators=1000, max_features=1)  #n_estimator = 1000\n",
    "RF_1000 = rf_1000.fit(X2, y) #model fitting\n",
    "scores_RF_1000 = cross_validation.cross_val_score(RF_1000,X2, y, cv=cv)\n",
    "scores_RF_1000.mean(), scores_RF_1000.std()"
   ]
  },
  {
   "cell_type": "markdown",
   "metadata": {},
   "source": [
    "### Play with max_depth"
   ]
  },
  {
   "cell_type": "code",
   "execution_count": 21,
   "metadata": {
    "collapsed": false
   },
   "outputs": [
    {
     "data": {
      "text/plain": [
       "(0.79828571428571427, 0.062180776608143411)"
      ]
     },
     "execution_count": 21,
     "metadata": {},
     "output_type": "execute_result"
    }
   ],
   "source": [
    "rf_50_MD = RandomForestClassifier(max_depth=None, n_estimators=50, max_features=1,)  #n_estimator = 50, max_depth = None\n",
    "RF_50_MD = rf_50_MD.fit(X2, y) #model fitting\n",
    "scores_RF_50_MD = cross_validation.cross_val_score(RF_50_MD,X2, y, cv=cv)\n",
    "scores_RF_50_MD.mean(), scores_RF_50_MD.std()\n",
    "\n",
    "## Max_depth = None is better than max_depth = 5\n",
    "\n",
    "## Best model so far"
   ]
  },
  {
   "cell_type": "markdown",
   "metadata": {},
   "source": [
    "### Play with max_features"
   ]
  },
  {
   "cell_type": "code",
   "execution_count": 50,
   "metadata": {
    "collapsed": false
   },
   "outputs": [
    {
     "data": {
      "text/plain": [
       "(0.80971428571428572, 0.079305145624032361)"
      ]
     },
     "execution_count": 50,
     "metadata": {},
     "output_type": "execute_result"
    }
   ],
   "source": [
    "rf_50_auto = RandomForestClassifier(max_depth=None, n_estimators=50, max_features=\"auto\") #max_features = auto  \n",
    "RF_50_auto = rf_50_auto.fit(X2, y) #model fitting\n",
    "scores_RF_50_auto = cross_validation.cross_val_score(RF_50_auto,X2, y, cv=cv)\n",
    "scores_RF_50_auto.mean(), scores_RF_50_auto.std()\n",
    "### This is the best model so far"
   ]
  },
  {
   "cell_type": "markdown",
   "metadata": {},
   "source": [
    "### Play with min_samples_split Default:min_samples_split=2"
   ]
  },
  {
   "cell_type": "code",
   "execution_count": 51,
   "metadata": {
    "collapsed": false
   },
   "outputs": [
    {
     "data": {
      "text/plain": [
       "(0.8114285714285715, 0.059109031044506259)"
      ]
     },
     "execution_count": 51,
     "metadata": {},
     "output_type": "execute_result"
    }
   ],
   "source": [
    "rf_50_ss_4 = RandomForestClassifier(max_depth=None, n_estimators=50, max_features=\"auto\", min_samples_split=4) \n",
    "RF_50_ss_4 = rf_50_ss_4.fit(X2, y) #model fitting\n",
    "scores_RF_50_ss_4 = cross_validation.cross_val_score(RF_50_ss_4,X2, y, cv=cv)\n",
    "scores_RF_50_ss_4.mean(), scores_RF_50_ss_4.std()\n",
    "##min_samples_split = 4, max_depth = None, n_estimators = 50, max_features = \"auto\" is the best set of parameters so far ##"
   ]
  },
  {
   "cell_type": "code",
   "execution_count": 52,
   "metadata": {
    "collapsed": false
   },
   "outputs": [
    {
     "data": {
      "text/plain": [
       "(0.80514285714285705, 0.059847425055003692)"
      ]
     },
     "execution_count": 52,
     "metadata": {},
     "output_type": "execute_result"
    }
   ],
   "source": [
    "rf_50_ss_6 = RandomForestClassifier(max_depth=None, n_estimators=50, max_features=\"auto\", min_samples_split=6) \n",
    "RF_50_ss_6 = rf_50_ss_6.fit(X2, y) #model fitting\n",
    "scores_RF_50_ss_6 = cross_validation.cross_val_score(RF_50_ss_6,X2, y, cv=cv)\n",
    "scores_RF_50_ss_6.mean(), scores_RF_50_ss_6.std()"
   ]
  },
  {
   "cell_type": "code",
   "execution_count": 53,
   "metadata": {
    "collapsed": false
   },
   "outputs": [
    {
     "data": {
      "text/plain": [
       "(0.7897142857142857, 0.058765532032834016)"
      ]
     },
     "execution_count": 53,
     "metadata": {},
     "output_type": "execute_result"
    }
   ],
   "source": [
    "rf_50_ss_8 = RandomForestClassifier(max_depth=None, n_estimators=50, max_features=\"auto\", min_samples_split=8) \n",
    "RF_50_ss_8 = rf_50_ss_8.fit(X2, y) #model fitting\n",
    "scores_RF_50_ss_8 = cross_validation.cross_val_score(RF_50_ss_8,X2, y, cv=cv)\n",
    "scores_RF_50_ss_8.mean(), scores_RF_50_ss_8.std()"
   ]
  },
  {
   "cell_type": "code",
   "execution_count": 43,
   "metadata": {
    "collapsed": false
   },
   "outputs": [
    {
     "data": {
      "text/plain": [
       "(0.80285714285714282, 0.061078738075519841)"
      ]
     },
     "execution_count": 43,
     "metadata": {},
     "output_type": "execute_result"
    }
   ],
   "source": [
    "rf_50_ss_10 = RandomForestClassifier(max_depth=None, n_estimators=50, max_features=\"auto\", min_samples_split=10) \n",
    "RF_50_ss_10 = rf_50_ss_10.fit(X2, y) #model fitting\n",
    "scores_RF_50_ss_10 = cross_validation.cross_val_score(RF_50_ss_10,X2, y, cv=cv)\n",
    "scores_RF_50_ss_10.mean(), scores_RF_50_ss_10.std()"
   ]
  },
  {
   "cell_type": "markdown",
   "metadata": {},
   "source": [
    "### Play with min_samples_leaf  # default = 1"
   ]
  },
  {
   "cell_type": "code",
   "execution_count": 58,
   "metadata": {
    "collapsed": false
   },
   "outputs": [
    {
     "data": {
      "text/plain": [
       "(0.79028571428571426, 0.051304612514920349)"
      ]
     },
     "execution_count": 58,
     "metadata": {},
     "output_type": "execute_result"
    }
   ],
   "source": [
    "rf_50_msl_2 = RandomForestClassifier(max_depth=None, n_estimators=50, max_features=\"auto\", min_samples_split=4,min_samples_leaf = 2) \n",
    "RF_50_msl_2 = rf_50_msl_2.fit(X2, y) #model fitting\n",
    "scores_RF_50_msl_2 = cross_validation.cross_val_score(RF_50_msl_2,X2, y, cv=cv)\n",
    "scores_RF_50_msl_2.mean(), scores_RF_50_msl_2.std()"
   ]
  },
  {
   "cell_type": "code",
   "execution_count": 65,
   "metadata": {
    "collapsed": false
   },
   "outputs": [
    {
     "data": {
      "text/plain": [
       "(0.79542857142857126, 0.056959706488581063)"
      ]
     },
     "execution_count": 65,
     "metadata": {},
     "output_type": "execute_result"
    }
   ],
   "source": [
    "rf_50_msl_3 = RandomForestClassifier(max_depth=None, n_estimators=50, max_features=\"auto\", min_samples_split=4,min_samples_leaf = 3) \n",
    "RF_50_msl_3 = rf_50_msl_3.fit(X2, y) #model fitting\n",
    "scores_RF_50_msl_3 = cross_validation.cross_val_score(RF_50_msl_3,X2, y, cv=cv)\n",
    "scores_RF_50_msl_3.mean(), scores_RF_50_msl_3.std()"
   ]
  },
  {
   "cell_type": "code",
   "execution_count": 66,
   "metadata": {
    "collapsed": false
   },
   "outputs": [
    {
     "data": {
      "text/plain": [
       "(0.8045714285714286, 0.062950579903636145)"
      ]
     },
     "execution_count": 66,
     "metadata": {},
     "output_type": "execute_result"
    }
   ],
   "source": [
    "rf_50_msl_4 = RandomForestClassifier(max_depth=None, n_estimators=50, max_features=\"auto\", min_samples_split=4,min_samples_leaf = 4) \n",
    "RF_50_msl_4 = rf_50_msl_4.fit(X2, y) #model fitting\n",
    "scores_RF_50_msl_4 = cross_validation.cross_val_score(RF_50_msl_4,X2, y, cv=cv)\n",
    "scores_RF_50_msl_4.mean(), scores_RF_50_msl_4.std()\n",
    "##min_samples_split = 4, max_depth = None, n_estimators = 50, max_features = \"auto\", min_samples_leaf = 4is the best set of parameters so far ##"
   ]
  },
  {
   "cell_type": "code",
   "execution_count": 63,
   "metadata": {
    "collapsed": false
   },
   "outputs": [
    {
     "data": {
      "text/plain": [
       "(0.79942857142857138, 0.063757192471412455)"
      ]
     },
     "execution_count": 63,
     "metadata": {},
     "output_type": "execute_result"
    }
   ],
   "source": [
    "rf_50_msl_5 = RandomForestClassifier(max_depth=None, n_estimators=50, max_features=\"auto\", min_samples_split=4,min_samples_leaf = 5) \n",
    "RF_50_msl_5 = rf_50_msl_5.fit(X2, y) #model fitting\n",
    "scores_RF_50_msl_5 = cross_validation.cross_val_score(RF_50_msl_5,X2, y, cv=cv)\n",
    "scores_RF_50_msl_5.mean(), scores_RF_50_msl_5.std()"
   ]
  },
  {
   "cell_type": "code",
   "execution_count": 60,
   "metadata": {
    "collapsed": false
   },
   "outputs": [
    {
     "data": {
      "text/plain": [
       "(0.79199999999999993, 0.066157511489857379)"
      ]
     },
     "execution_count": 60,
     "metadata": {},
     "output_type": "execute_result"
    }
   ],
   "source": [
    "rf_50_msl_6 = RandomForestClassifier(max_depth=None, n_estimators=50, max_features=\"auto\", min_samples_split=4,min_samples_leaf = 6) \n",
    "RF_50_msl_6 = rf_50_msl_6.fit(X2, y) #model fitting\n",
    "scores_RF_50_msl_6 = cross_validation.cross_val_score(RF_50_msl_6,X2, y, cv=cv)\n",
    "scores_RF_50_msl_6.mean(), scores_RF_50_msl_6.std()"
   ]
  },
  {
   "cell_type": "code",
   "execution_count": 61,
   "metadata": {
    "collapsed": false
   },
   "outputs": [
    {
     "data": {
      "text/plain": [
       "(0.78514285714285714, 0.063436292966299046)"
      ]
     },
     "execution_count": 61,
     "metadata": {},
     "output_type": "execute_result"
    }
   ],
   "source": [
    "rf_50_msl_8 = RandomForestClassifier(max_depth=None, n_estimators=50, max_features=\"auto\", min_samples_split=4,min_samples_leaf = 8) \n",
    "RF_50_msl_8 = rf_50_msl_8.fit(X2, y) #model fitting\n",
    "scores_RF_50_msl_8 = cross_validation.cross_val_score(RF_50_msl_8,X2, y, cv=cv)\n",
    "scores_RF_50_msl_8.mean(), scores_RF_50_msl_8.std()"
   ]
  },
  {
   "cell_type": "code",
   "execution_count": 11,
   "metadata": {
    "collapsed": false
   },
   "outputs": [
    {
     "data": {
      "text/plain": [
       "(0.81085714285714272, 0.049779923828050687)"
      ]
     },
     "execution_count": 11,
     "metadata": {},
     "output_type": "execute_result"
    }
   ],
   "source": [
    "#### This is the final parameter to use after grid search\n",
    "#### FINAL MODEL\n",
    "#### FINAL MODEL\n",
    "\n",
    "rf_final = RandomForestClassifier(max_depth=None, n_estimators=50, max_features= 1, min_samples_split=6,min_samples_leaf = 4, bootstrap=False, criterion='gini') \n",
    "RF_final = rf_final.fit(X2, y) #model fitting\n",
    "scores_RF_final = cross_validation.cross_val_score(RF_final,X2, y, cv=cv)\n",
    "scores_RF_final.mean(), scores_RF_final.std()"
   ]
  },
  {
   "cell_type": "markdown",
   "metadata": {},
   "source": [
    "Apply on Test data"
   ]
  },
  {
   "cell_type": "code",
   "execution_count": 67,
   "metadata": {
    "collapsed": true
   },
   "outputs": [],
   "source": [
    "bulk_test = pd.read_csv('gut_test.csv')\n",
    "X2_bt = bulk_test[['SP1','SP2','SP3','SP4','SP5','SP6','SP7','SP8','SP9','SP10']].values\n",
    "y_bt = bulk_test['Group'].values"
   ]
  },
  {
   "cell_type": "code",
   "execution_count": 70,
   "metadata": {
    "collapsed": false
   },
   "outputs": [
    {
     "name": "stdout",
     "output_type": "stream",
     "text": [
      "[0 0 0 0 0 0 0 0 0 0 0 0 0 0 0 0 0 1 1 1 1 1 1 1 1 1 1]\n"
     ]
    }
   ],
   "source": [
    "print y_bt"
   ]
  },
  {
   "cell_type": "code",
   "execution_count": 91,
   "metadata": {
    "collapsed": false
   },
   "outputs": [
    {
     "name": "stdout",
     "output_type": "stream",
     "text": [
      "[0 0 0 0 0 0 0 0 0 0 0 0 0 0 0 0 0 0 1 1 0 1 1 0 0 1 0]\n"
     ]
    }
   ],
   "source": [
    "print RF_50_msl_4.predict(X2_bt)"
   ]
  },
  {
   "cell_type": "code",
   "execution_count": 92,
   "metadata": {
    "collapsed": false
   },
   "outputs": [
    {
     "name": "stdout",
     "output_type": "stream",
     "text": [
      "[[ 0.92876466  0.07123534]\n",
      " [ 0.91639337  0.08360663]\n",
      " [ 0.81619539  0.18380461]\n",
      " [ 0.83166321  0.16833679]\n",
      " [ 0.91185898  0.08814102]\n",
      " [ 0.76873077  0.23126923]\n",
      " [ 0.78468197  0.21531803]\n",
      " [ 0.86400506  0.13599494]\n",
      " [ 0.88295801  0.11704199]\n",
      " [ 0.75098583  0.24901417]\n",
      " [ 0.79137951  0.20862049]\n",
      " [ 0.8157332   0.1842668 ]\n",
      " [ 0.9124127   0.0875873 ]\n",
      " [ 0.90221521  0.09778479]\n",
      " [ 0.78520012  0.21479988]\n",
      " [ 0.79702918  0.20297082]\n",
      " [ 0.91798413  0.08201587]\n",
      " [ 0.7686668   0.2313332 ]\n",
      " [ 0.25975397  0.74024603]\n",
      " [ 0.28959354  0.71040646]\n",
      " [ 0.56359015  0.43640985]\n",
      " [ 0.17712377  0.82287623]\n",
      " [ 0.13110861  0.86889139]\n",
      " [ 0.57854063  0.42145937]\n",
      " [ 0.6472975   0.3527025 ]\n",
      " [ 0.35574353  0.64425647]\n",
      " [ 0.52064368  0.47935632]]\n"
     ]
    }
   ],
   "source": [
    "print RF_50_msl_4.predict_proba(X2_bt)"
   ]
  },
  {
   "cell_type": "code",
   "execution_count": 102,
   "metadata": {
    "collapsed": false
   },
   "outputs": [
    {
     "data": {
      "text/plain": [
       "array([ 0.92876466,  0.91639337,  0.81619539,  0.83166321,  0.91185898,\n",
       "        0.76873077,  0.78468197,  0.86400506,  0.88295801,  0.75098583,\n",
       "        0.79137951,  0.8157332 ,  0.9124127 ,  0.90221521,  0.78520012,\n",
       "        0.79702918,  0.91798413,  0.7686668 ,  0.25975397,  0.28959354,\n",
       "        0.56359015,  0.17712377,  0.13110861,  0.57854063,  0.6472975 ,\n",
       "        0.35574353,  0.52064368])"
      ]
     },
     "execution_count": 102,
     "metadata": {},
     "output_type": "execute_result"
    }
   ],
   "source": [
    "### on test set\n",
    "cancer_chance = RF_50_msl_4.predict_proba(X2_bt)[:,0]\n",
    "cancer_chance"
   ]
  },
  {
   "cell_type": "code",
   "execution_count": 155,
   "metadata": {
    "collapsed": false
   },
   "outputs": [
    {
     "name": "stdout",
     "output_type": "stream",
     "text": [
      "[0 0 0 0 0 0 0 0 0 0 0 0 0 0 0 0 0 0 1 1 1 1 1 1 1 1 1]\n"
     ]
    }
   ],
   "source": [
    "###Since we want to reduce the false negative level, we need to set the threshold higher\n",
    "###The first number higher than 0.7 is the new cutoff for put the prediction value as 0\n",
    "### if RF_50_msl_4.predict_proba(X2_bt)[:,0]>0.7, y_predict = 0; if RF_50_msl_4.predict_proba(X2_bt)[:,0]<=0.7, y_predict =1\n",
    "\n",
    "cancer_bin_l = []\n",
    "for x in np.nditer(cancer_chance):\n",
    "    if x > 0.7:\n",
    "        y = 0\n",
    "    else:\n",
    "        y = 1\n",
    "    #print y\n",
    "    cancer_bin_l.append(y)\n",
    "import numpy as np\n",
    "cancer_predict = np.asarray(cancer_bin_l)\n",
    "print cancer_predict\n",
    "#print cancer_chance"
   ]
  },
  {
   "cell_type": "code",
   "execution_count": 159,
   "metadata": {
    "collapsed": false
   },
   "outputs": [
    {
     "name": "stdout",
     "output_type": "stream",
     "text": [
      "0.962962962963\n"
     ]
    },
    {
     "data": {
      "text/plain": [
       "array([ True,  True,  True,  True,  True,  True,  True,  True,  True,\n",
       "        True,  True,  True,  True,  True,  True,  True,  True, False,\n",
       "        True,  True,  True,  True,  True,  True,  True,  True,  True], dtype=bool)"
      ]
     },
     "execution_count": 159,
     "metadata": {},
     "output_type": "execute_result"
    }
   ],
   "source": [
    "#acc = (y_bt == RF_50_msl_4.predict(X2_bt))\n",
    "acc = (y_bt == cancer_predict)\n",
    "#RF.predict(X2_bt)\n",
    "print np.mean(acc)\n",
    "acc"
   ]
  },
  {
   "cell_type": "code",
   "execution_count": 169,
   "metadata": {
    "collapsed": false
   },
   "outputs": [
    {
     "name": "stdout",
     "output_type": "stream",
     "text": [
      "[0 0 0 0 0 1 0 0 0 1 0 0 0 1 0 0 0 0 0 0 0 1 0 0 0 0 0 0 0 0 0 1 0 0 0 0 0\n",
      " 0 1 0 0 1 0 0 0 0 0 0 0 0 0 0 0 0 0 1 1 0 0 0 1 0 1 0 0 0 0 1 0 0 0 1 1 1\n",
      " 1 1 1 1 1 1 1 1 1 1 1 1 1 1 1 1 1 1 1 1 1 1 1 1 1 1 1 1 1 1 1 1 1 1 1 1 0\n",
      " 1 1 0]\n"
     ]
    }
   ],
   "source": [
    "#### On training sets\n",
    "#print RF_50_msl_4.predict_proba(X2)\n",
    "cancer_chance_train = RF_50_msl_4.predict_proba(X2)[:,0]\n",
    "#print cancer_chance_train\n",
    "cancer_bin_train_l = []\n",
    "for x in np.nditer(cancer_chance_train):\n",
    "    if x > 0.7:\n",
    "        y = 0\n",
    "    else:\n",
    "        y = 1\n",
    "    #print y\n",
    "    cancer_bin_train_l.append(y)\n",
    "#print cancer_bin_train_l\n",
    "import numpy as np\n",
    "cancer_predict_train = np.asarray(cancer_bin_train_l)\n",
    "print cancer_predict_train"
   ]
  },
  {
   "cell_type": "code",
   "execution_count": 181,
   "metadata": {
    "collapsed": false
   },
   "outputs": [
    {
     "data": {
      "text/plain": [
       "array([0, 0, 0, 0, 0, 0, 0, 0, 0, 0, 0, 0, 0, 0, 0, 0, 0, 0, 0, 0, 0, 0, 0,\n",
       "       0, 0, 0, 0, 0, 0, 0, 0, 0, 0, 0, 0, 0, 0, 0, 0, 0, 0, 0, 0, 0, 0, 0,\n",
       "       0, 0, 0, 0, 0, 0, 0, 0, 0, 0, 0, 0, 0, 0, 0, 0, 0, 0, 0, 0, 0, 0, 0,\n",
       "       0, 0, 1, 1, 1, 1, 1, 1, 1, 1, 1, 1, 1, 1, 1, 1, 1, 1, 1, 1, 1, 1, 1,\n",
       "       1, 1, 1, 1, 1, 1, 1, 1, 1, 1, 1, 1, 1, 1, 1, 1, 1, 1, 1, 1, 1, 1])"
      ]
     },
     "execution_count": 181,
     "metadata": {},
     "output_type": "execute_result"
    }
   ],
   "source": [
    "y"
   ]
  },
  {
   "cell_type": "code",
   "execution_count": 182,
   "metadata": {
    "collapsed": false
   },
   "outputs": [
    {
     "data": {
      "text/plain": [
       "array([0, 0, 0, 0, 0, 1, 0, 0, 0, 1, 0, 0, 0, 1, 0, 0, 0, 0, 0, 0, 0, 1, 0,\n",
       "       0, 0, 0, 0, 0, 0, 0, 0, 1, 0, 0, 0, 0, 0, 0, 1, 0, 0, 1, 0, 0, 0, 0,\n",
       "       0, 0, 0, 0, 0, 0, 0, 0, 0, 1, 1, 0, 0, 0, 1, 0, 1, 0, 0, 0, 0, 1, 0,\n",
       "       0, 0, 1, 1, 1, 1, 1, 1, 1, 1, 1, 1, 1, 1, 1, 1, 1, 1, 1, 1, 1, 1, 1,\n",
       "       1, 1, 1, 1, 1, 1, 1, 1, 1, 1, 1, 1, 1, 1, 1, 1, 1, 1, 0, 1, 1, 0])"
      ]
     },
     "execution_count": 182,
     "metadata": {},
     "output_type": "execute_result"
    }
   ],
   "source": [
    "cancer_predict_train"
   ]
  },
  {
   "cell_type": "code",
   "execution_count": 1,
   "metadata": {
    "collapsed": false
   },
   "outputs": [
    {
     "ename": "NameError",
     "evalue": "name 'y' is not defined",
     "output_type": "error",
     "traceback": [
      "\u001b[0;31m---------------------------------------------------------------------------\u001b[0m",
      "\u001b[0;31mNameError\u001b[0m                                 Traceback (most recent call last)",
      "\u001b[0;32m<ipython-input-1-5c95e069c3e5>\u001b[0m in \u001b[0;36m<module>\u001b[0;34m()\u001b[0m\n\u001b[0;32m----> 1\u001b[0;31m \u001b[0macc2\u001b[0m \u001b[0;34m=\u001b[0m \u001b[0;34m(\u001b[0m\u001b[0my\u001b[0m \u001b[0;34m==\u001b[0m \u001b[0mcancer_predict_train\u001b[0m\u001b[0;34m)\u001b[0m\u001b[0;34m\u001b[0m\u001b[0m\n\u001b[0m\u001b[1;32m      2\u001b[0m \u001b[0;32mprint\u001b[0m \u001b[0mnp\u001b[0m\u001b[0;34m.\u001b[0m\u001b[0mmean\u001b[0m\u001b[0;34m(\u001b[0m\u001b[0macc2\u001b[0m\u001b[0;34m)\u001b[0m\u001b[0;34m\u001b[0m\u001b[0m\n",
      "\u001b[0;31mNameError\u001b[0m: name 'y' is not defined"
     ]
    }
   ],
   "source": [
    "acc2 = (y == cancer_predict_train)\n",
    "print np.mean(acc2)"
   ]
  }
 ],
 "metadata": {
  "anaconda-cloud": {},
  "kernelspec": {
   "display_name": "Python [conda root]",
   "language": "python",
   "name": "conda-root-py"
  },
  "language_info": {
   "codemirror_mode": {
    "name": "ipython",
    "version": 2
   },
   "file_extension": ".py",
   "mimetype": "text/x-python",
   "name": "python",
   "nbconvert_exporter": "python",
   "pygments_lexer": "ipython2",
   "version": "2.7.13"
  }
 },
 "nbformat": 4,
 "nbformat_minor": 1
}

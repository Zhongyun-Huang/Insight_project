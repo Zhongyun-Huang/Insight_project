{
 "cells": [
  {
   "cell_type": "markdown",
   "metadata": {},
   "source": [
    "# Random Forest Classifier for Gut Microbe Project\n",
    "#### Author: Julie Huang ####\n",
    "Input:\n",
    "   1. Training samples (train_valid.csv)\n",
    "   2. Test samples (XXXX.csv)\n",
    "Model: \n",
    "   Random Forest\n",
    "Output:\n",
    "   A score on one test sample"
   ]
  },
  {
   "cell_type": "code",
   "execution_count": 48,
   "metadata": {
    "collapsed": true
   },
   "outputs": [],
   "source": [
    "import numpy as np\n",
    "import scipy as sp\n",
    "import pandas as pd\n",
    "import statsmodels.api as sm\n",
    "import matplotlib.pyplot as plt\n",
    "#import imblearn\n",
    "from patsy import dmatrices\n",
    "from sklearn.linear_model import LogisticRegression\n",
    "from sklearn.cross_validation import train_test_split\n",
    "from sklearn import metrics\n",
    "from sklearn.cross_validation import cross_val_score\n",
    "from sklearn import metrics\n",
    "%matplotlib inline \n",
    "from sklearn.externals import joblib # pickle related "
   ]
  },
  {
   "cell_type": "code",
   "execution_count": 32,
   "metadata": {
    "collapsed": true
   },
   "outputs": [],
   "source": [
    "train_gut = pd.read_csv('train_valid.csv')\n",
    "#/Users/zybell/Dropbox/Insight_project/train_vaild.csv"
   ]
  },
  {
   "cell_type": "code",
   "execution_count": 33,
   "metadata": {
    "collapsed": true
   },
   "outputs": [],
   "source": [
    "### Use cross validation strategy, small size of the data\n",
    "### Test data locked in a vault\n",
    "\n",
    "X2 = train_gut[['SP1','SP2','SP3','SP4','SP5','SP6','SP7','SP8','SP9','SP10']].values\n",
    "y = train_gut['Group'].values\n",
    "\n",
    "from sklearn import cross_validation, linear_model\n",
    "cv = cross_validation.ShuffleSplit(len(y), n_iter=5,test_size=0.3)\n"
   ]
  },
  {
   "cell_type": "code",
   "execution_count": 34,
   "metadata": {
    "collapsed": false
   },
   "outputs": [
    {
     "data": {
      "text/plain": [
       "array([0, 0, 0, 0, 0, 0, 0, 0, 0, 0, 0, 0, 0, 0, 0, 0, 0, 0, 0, 0, 0, 0, 0,\n",
       "       0, 0, 0, 0, 0, 0, 0, 0, 0, 0, 0, 0, 0, 0, 0, 0, 0, 0, 0, 0, 0, 0, 0,\n",
       "       0, 0, 0, 0, 0, 0, 0, 0, 0, 0, 0, 0, 0, 0, 0, 0, 0, 0, 0, 0, 0, 0, 0,\n",
       "       0, 0, 1, 1, 1, 1, 1, 1, 1, 1, 1, 1, 1, 1, 1, 1, 1, 1, 1, 1, 1, 1, 1,\n",
       "       1, 1, 1, 1, 1, 1, 1, 1, 1, 1, 1, 1, 1, 1, 1, 1, 1, 1, 1, 1, 1, 1])"
      ]
     },
     "execution_count": 34,
     "metadata": {},
     "output_type": "execute_result"
    }
   ],
   "source": [
    "y"
   ]
  },
  {
   "cell_type": "code",
   "execution_count": 37,
   "metadata": {
    "collapsed": false
   },
   "outputs": [
    {
     "data": {
      "text/plain": [
       "(0.72571428571428576, 0.038756171332144401)"
      ]
     },
     "execution_count": 37,
     "metadata": {},
     "output_type": "execute_result"
    }
   ],
   "source": [
    "from sklearn.ensemble import RandomForestClassifier, AdaBoostClassifier\n",
    "rf = RandomForestClassifier(max_depth=5, n_estimators=10, max_features=1)\n",
    "RF = rf.fit(X2, y) #model fitting\n",
    "\n",
    "scores_RF = cross_validation.cross_val_score(RF,X2, y, cv=cv)\n",
    "scores_RF.mean(), scores_RF.std()"
   ]
  },
  {
   "cell_type": "code",
   "execution_count": 46,
   "metadata": {
    "collapsed": false
   },
   "outputs": [],
   "source": [
    "RF_score = rf.score(X2, y) #New"
   ]
  },
  {
   "cell_type": "code",
   "execution_count": 150,
   "metadata": {
    "collapsed": false
   },
   "outputs": [
    {
     "data": {
      "text/plain": [
       "array([0, 0, 0, 0, 0, 0, 0, 0, 0, 0, 0, 0, 0, 0, 0, 0, 0, 0, 0, 0, 0, 0, 0,\n",
       "       0, 0, 0, 0, 0, 0, 0, 0, 0, 0, 0, 0, 0, 0, 0, 0, 0, 0, 0, 0, 0, 0, 0,\n",
       "       0, 0, 0, 0, 0, 0, 0, 0, 0, 0, 0, 0, 0, 0, 0, 0, 0, 0, 0, 0, 0, 0, 0,\n",
       "       0, 0, 1, 1, 1, 1, 1, 1, 1, 1, 1, 1, 1, 1, 1, 1, 1, 1, 1, 1, 1, 1, 1,\n",
       "       1, 1, 1, 1, 1, 1, 1, 1, 1, 1, 1, 1, 1, 1, 1, 1, 1, 1, 1, 1, 1, 1])"
      ]
     },
     "execution_count": 150,
     "metadata": {},
     "output_type": "execute_result"
    }
   ],
   "source": [
    "y"
   ]
  },
  {
   "cell_type": "code",
   "execution_count": 153,
   "metadata": {
    "collapsed": false
   },
   "outputs": [
    {
     "data": {
      "text/plain": [
       "array([ 0.3139973 ,  0.18580373,  0.23923701,  0.16590368,  0.18712121,\n",
       "        0.27540251,  0.16536464,  0.17545323,  0.15888065,  0.29374459,\n",
       "        0.30302489,  0.2101461 ,  0.20657676,  0.34997171,  0.09755621,\n",
       "        0.17257035,  0.19004205,  0.10798701,  0.18837291,  0.22107654,\n",
       "        0.22920323,  0.65304863,  0.274282  ,  0.28431988,  0.20007993,\n",
       "        0.27051786,  0.22049412,  0.13463822,  0.18632035,  0.18625827,\n",
       "        0.11708202,  0.47      ,  0.23344156,  0.19683821,  0.25382746,\n",
       "        0.15888065,  0.14632035,  0.25382746,  0.47692308,  0.06422287,\n",
       "        0.20638196,  0.2947466 ,  0.27096831,  0.28010823,  0.18580373,\n",
       "        0.28333333,  0.254282  ,  0.2049608 ,  0.11766443,  0.09720989,\n",
       "        0.09378788,  0.12753247,  0.25382746,  0.20590368,  0.12554732,\n",
       "        0.25171282,  0.17045455,  0.27315686,  0.23382746,  0.14891443,\n",
       "        0.30737857,  0.23516745,  0.24965368,  0.16469156,  0.17965368,\n",
       "        0.22049412,  0.25806578,  0.22920323,  0.05599777,  0.14798701,\n",
       "        0.14632035,  0.56801075,  0.86      ,  0.62255621,  0.30207792,\n",
       "        0.58638196,  0.76420455,  0.78871212,  0.44204545,  0.40753247,\n",
       "        0.71212121,  0.73333333,  0.92045455,  0.8       ,  0.92121212,\n",
       "        0.9       ,  0.81875   ,  0.82121212,  0.274282  ,  0.21683821,\n",
       "        0.63635823,  0.74923701,  0.59694357,  0.35098655,  0.24733063,\n",
       "        0.20625827,  0.21683821,  0.77878788,  0.9875    ,  0.79353448,\n",
       "        0.52878788,  0.8875    ,  0.63480596,  0.9       ,  0.75362762,\n",
       "        0.51738172,  0.92121212,  0.88787879,  0.3901461 ,  0.66666667,\n",
       "        0.18590368,  0.69924242,  1.        ,  0.40430165])"
      ]
     },
     "execution_count": 153,
     "metadata": {},
     "output_type": "execute_result"
    }
   ],
   "source": [
    "proba_X2_train = RF.predict_proba (X2)\n",
    "proba_X2_train[:, 1]\n",
    "#bin_X2_train\n",
    "#bin_X2_train.transpose()\n",
    "#bin_X2_train.transpose()[0]  #New\n",
    "#len(bin_X2_train.transpose()[0])"
   ]
  },
  {
   "cell_type": "code",
   "execution_count": 173,
   "metadata": {
    "collapsed": false
   },
   "outputs": [
    {
     "data": {
      "text/plain": [
       "0.92974123812643295"
      ]
     },
     "execution_count": 173,
     "metadata": {},
     "output_type": "execute_result"
    }
   ],
   "source": [
    "from sklearn.metrics import roc_curve, auc  ##Make roc curve ##  ##new##\n",
    "#fpr, tpr, thresholds = metrics.roc_curve(y, proba_X2_train[:, 1]) ##roc##\n",
    "fpr, tpr, thresholds = roc_curve(y, proba_X2_train[:, 1])\n",
    "from sklearn.metrics import roc_auc_score ##roc auc##\n",
    "roc_auc_score = roc_auc_score(y, proba_X2_train[:,1])\n",
    "roc_auc_score"
   ]
  },
  {
   "cell_type": "code",
   "execution_count": 166,
   "metadata": {
    "collapsed": false
   },
   "outputs": [
    {
     "data": {
      "text/plain": [
       "array([ 0.02325581,  0.04651163,  0.09302326,  0.11627907,  0.1627907 ,\n",
       "        0.53488372,  0.53488372,  0.72093023,  0.72093023,  0.8372093 ,\n",
       "        0.8372093 ,  0.86046512,  0.86046512,  0.88372093,  0.88372093,\n",
       "        0.88372093,  0.88372093,  0.90697674,  0.90697674,  0.90697674,\n",
       "        0.90697674,  0.90697674,  0.95348837,  0.95348837,  0.97674419,\n",
       "        0.97674419,  1.        ,  1.        ,  1.        ,  1.        ,\n",
       "        1.        ,  1.        ,  1.        ])"
      ]
     },
     "execution_count": 166,
     "metadata": {},
     "output_type": "execute_result"
    }
   ],
   "source": [
    "tpr"
   ]
  },
  {
   "cell_type": "code",
   "execution_count": 176,
   "metadata": {
    "collapsed": false
   },
   "outputs": [
    {
     "data": {
      "image/png": "[encoded data removed]",
      "text/plain": [
       "<matplotlib.figure.Figure at 0x11b3b0590>"
      ]
     },
     "metadata": {},
     "output_type": "display_data"
    }
   ],
   "source": [
    "### In this part, I used the training + validation set for the ROC curve\n",
    "plt.figure()\n",
    "lw = 2\n",
    "plt.plot(fpr, tpr, color='darkorange',\n",
    "         lw=lw, label='ROC curve (area = %0.2f)' % roc_auc_score)\n",
    "plt.plot([0, 1], [0, 1], color='navy', lw=lw, linestyle='--')\n",
    "plt.xlim([-0.05, 1.0])\n",
    "plt.ylim([-0.05, 1.05])\n",
    "plt.xlabel('False Positive Rate')\n",
    "plt.ylabel('True Positive Rate')\n",
    "plt.title('Receiver operating characteristic for gut microbe with training+validation data')\n",
    "plt.legend(loc=\"lower right\")\n",
    "plt.show()\n"
   ]
  },
  {
   "cell_type": "code",
   "execution_count": null,
   "metadata": {
    "collapsed": true
   },
   "outputs": [],
   "source": []
  },
  {
   "cell_type": "code",
   "execution_count": 47,
   "metadata": {
    "collapsed": false
   },
   "outputs": [
    {
     "data": {
      "text/plain": [
       "0.88596491228070173"
      ]
     },
     "execution_count": 47,
     "metadata": {},
     "output_type": "execute_result"
    }
   ],
   "source": [
    "RF_score"
   ]
  },
  {
   "cell_type": "code",
   "execution_count": 9,
   "metadata": {
    "collapsed": true
   },
   "outputs": [],
   "source": [
    "test_1 = pd.read_csv('test_1.csv')"
   ]
  },
  {
   "cell_type": "code",
   "execution_count": 10,
   "metadata": {
    "collapsed": false
   },
   "outputs": [],
   "source": [
    "Shermin = test_1[['SP1','SP2','SP3','SP4','SP5','SP6','SP7','SP8','SP9','SP10']].values\n",
    "y_Shermin = test_1['Group'].values"
   ]
  },
  {
   "cell_type": "code",
   "execution_count": 13,
   "metadata": {
    "collapsed": false
   },
   "outputs": [
    {
     "data": {
      "text/plain": [
       "array([[  0.00000000e+00,   0.00000000e+00,   1.06000000e-05,\n",
       "          0.00000000e+00,   0.00000000e+00,   0.00000000e+00,\n",
       "          1.32066900e-02,   1.29329830e-02,   5.09617200e-03,\n",
       "          2.80748000e-04]])"
      ]
     },
     "execution_count": 13,
     "metadata": {},
     "output_type": "execute_result"
    }
   ],
   "source": [
    "Shermin"
   ]
  },
  {
   "cell_type": "code",
   "execution_count": 14,
   "metadata": {
    "collapsed": false
   },
   "outputs": [
    {
     "data": {
      "text/plain": [
       "array([0])"
      ]
     },
     "execution_count": 14,
     "metadata": {},
     "output_type": "execute_result"
    }
   ],
   "source": [
    "RF.predict (Shermin)"
   ]
  },
  {
   "cell_type": "code",
   "execution_count": 201,
   "metadata": {
    "collapsed": false
   },
   "outputs": [
    {
     "data": {
      "text/plain": [
       "array([[ 0.65625132,  0.34374868]])"
      ]
     },
     "execution_count": 201,
     "metadata": {},
     "output_type": "execute_result"
    }
   ],
   "source": [
    "RF.predict_proba (Shermin)"
   ]
  },
  {
   "cell_type": "code",
   "execution_count": 21,
   "metadata": {
    "collapsed": true
   },
   "outputs": [],
   "source": [
    "test_2 = pd.read_csv('test_2.csv')\n",
    "Julie = test_2[['SP1','SP2','SP3','SP4','SP5','SP6','SP7','SP8','SP9','SP10']].values\n",
    "y_Julie = test_2['Group'].values"
   ]
  },
  {
   "cell_type": "code",
   "execution_count": 22,
   "metadata": {
    "collapsed": false
   },
   "outputs": [
    {
     "data": {
      "text/plain": [
       "array([1])"
      ]
     },
     "execution_count": 22,
     "metadata": {},
     "output_type": "execute_result"
    }
   ],
   "source": [
    "y_Julie"
   ]
  },
  {
   "cell_type": "code",
   "execution_count": 23,
   "metadata": {
    "collapsed": false
   },
   "outputs": [
    {
     "data": {
      "text/plain": [
       "array([[  0.00000000e+00,   0.00000000e+00,   0.00000000e+00,\n",
       "          0.00000000e+00,   5.26537100e-03,   0.00000000e+00,\n",
       "          1.21000000e-05,   0.00000000e+00,   0.00000000e+00,\n",
       "          3.54000000e-05]])"
      ]
     },
     "execution_count": 23,
     "metadata": {},
     "output_type": "execute_result"
    }
   ],
   "source": [
    "Julie"
   ]
  },
  {
   "cell_type": "code",
   "execution_count": 198,
   "metadata": {
    "collapsed": false
   },
   "outputs": [
    {
     "data": {
      "text/plain": [
       "array([[ 0.44318723,  0.55681277]])"
      ]
     },
     "execution_count": 198,
     "metadata": {},
     "output_type": "execute_result"
    }
   ],
   "source": [
    "RF.predict_proba (Julie)"
   ]
  },
  {
   "cell_type": "code",
   "execution_count": 26,
   "metadata": {
    "collapsed": true
   },
   "outputs": [],
   "source": [
    "bulk_test = pd.read_csv('gut_test.csv')\n",
    "X2_bt = bulk_test[['SP1','SP2','SP3','SP4','SP5','SP6','SP7','SP8','SP9','SP10']].values\n",
    "y_bt = bulk_test['Group'].values"
   ]
  },
  {
   "cell_type": "code",
   "execution_count": 177,
   "metadata": {
    "collapsed": false
   },
   "outputs": [
    {
     "data": {
      "text/plain": [
       "array([[ 0.65625132,  0.34374868],\n",
       "       [ 0.65201299,  0.34798701],\n",
       "       [ 0.78316179,  0.21683821],\n",
       "       [ 0.81625132,  0.18374868],\n",
       "       [ 0.86111935,  0.13888065],\n",
       "       [ 0.72242965,  0.27757035],\n",
       "       [ 0.50698925,  0.49301075],\n",
       "       [ 0.81419627,  0.18580373],\n",
       "       [ 0.79892346,  0.20107654],\n",
       "       [ 0.62666667,  0.37333333],\n",
       "       [ 0.81409632,  0.18590368],\n",
       "       [ 0.91246753,  0.08753247],\n",
       "       [ 0.76076299,  0.23923701],\n",
       "       [ 0.76617254,  0.23382746],\n",
       "       [ 0.66666667,  0.33333333],\n",
       "       [ 0.8450392 ,  0.1549608 ],\n",
       "       [ 0.65201299,  0.34798701],\n",
       "       [ 0.77576299,  0.22423701],\n",
       "       [ 0.35698925,  0.64301075],\n",
       "       [ 0.44318723,  0.55681277],\n",
       "       [ 0.5852534 ,  0.4147466 ],\n",
       "       [ 0.07954545,  0.92045455],\n",
       "       [ 0.40454545,  0.59545455],\n",
       "       [ 0.77121344,  0.22878656],\n",
       "       [ 0.69688102,  0.30311898],\n",
       "       [ 0.56666667,  0.43333333],\n",
       "       [ 0.43595571,  0.56404429]])"
      ]
     },
     "execution_count": 177,
     "metadata": {},
     "output_type": "execute_result"
    }
   ],
   "source": [
    "RF.predict_proba(X2_bt) #predict for the bulk #print out probability"
   ]
  },
  {
   "cell_type": "code",
   "execution_count": 28,
   "metadata": {
    "collapsed": false
   },
   "outputs": [
    {
     "data": {
      "text/plain": [
       "array([0, 0, 0, 0, 0, 0, 0, 0, 0, 0, 0, 0, 0, 0, 0, 0, 0, 1, 1, 1, 1, 1, 1,\n",
       "       1, 1, 1, 1])"
      ]
     },
     "execution_count": 28,
     "metadata": {},
     "output_type": "execute_result"
    }
   ],
   "source": [
    "y_bt"
   ]
  },
  {
   "cell_type": "code",
   "execution_count": 195,
   "metadata": {
    "collapsed": false
   },
   "outputs": [
    {
     "data": {
      "text/plain": [
       "0.84705882352941175"
      ]
     },
     "execution_count": 195,
     "metadata": {},
     "output_type": "execute_result"
    }
   ],
   "source": [
    "## Use X2_bt, the test data for ROC curve, and plot ROC curve\n",
    "RF_predict_test = RF.predict_proba(X2_bt)[:,1]  #Proba prediction  \n",
    "fpr_t, tpr_t, thresholds_t = roc_curve(y_bt, RF_predict_test)\n",
    "\n",
    "from sklearn.metrics import roc_auc_score ##roc auc##\n",
    "roc_auc_score_t = roc_auc_score(y_bt, RF_predict_test)\n",
    "roc_auc_score_t"
   ]
  },
  {
   "cell_type": "code",
   "execution_count": 210,
   "metadata": {
    "collapsed": false
   },
   "outputs": [
    {
     "data": {
      "image/png": "[encoded data removed]",
      "text/plain": [
       "<matplotlib.figure.Figure at 0x11bda1350>"
      ]
     },
     "metadata": {},
     "output_type": "display_data"
    }
   ],
   "source": [
    "plt.figure()\n",
    "lw = 2\n",
    "plt.plot(fpr_t, tpr_t, color='darkorange',\n",
    "         lw=lw, label='ROC curve (area = %0.2f)' % roc_auc_score_t)\n",
    "plt.plot([0, 1], [0, 1], color='navy', lw=lw, linestyle='--')\n",
    "plt.plot(fpr,tpr,color = 'red',lw=lw)  ## How to add roc_auc_score?\n",
    "plt.xlim([-0.05, 1.0])\n",
    "plt.ylim([-0.05, 1.05])\n",
    "plt.xlabel('False Positive Rate')\n",
    "plt.ylabel('True Positive Rate')\n",
    "plt.title('Receiver operating characteristic for gut microbe with test data')\n",
    "plt.legend(loc=\"lower right\")\n",
    "plt.show()"
   ]
  },
  {
   "cell_type": "code",
   "execution_count": 275,
   "metadata": {
    "collapsed": false
   },
   "outputs": [],
   "source": [
    "### This part of the code is to plot the ROC curve along with the Logistic Regression for comparison\n",
    "### To have the parameters of LR, we still need to repeat the fit here\n",
    "cv = cross_validation.ShuffleSplit(len(y), n_iter=5,test_size=0.3)\n",
    "#LR= linear_model.LogisticRegression.fit(X2,y)\n",
    "LR = linear_model.LogisticRegression()\n",
    "lr = LR.fit(X2,y)\n",
    "#lr.predict(X2)\n",
    "LR_predict_test = lr.predict_proba(X2_bt)[:,1] \n",
    "LR_predict_test\n",
    "#scores_lr = cross_validation.cross_val_score(LR,X2, y, cv=cv)\n",
    "#scores_lr.mean(), scores_lr.std()\n",
    "fpr_l, tpr_l, thresholds_l = roc_curve(y_bt, LR_predict_test)\n",
    "roc_auc_score_l = roc_auc_score(y_bt, LR_predict_test)"
   ]
  },
  {
   "cell_type": "code",
   "execution_count": 284,
   "metadata": {
    "collapsed": false
   },
   "outputs": [
    {
     "data": {
      "image/png": "[encoded data removed]",
      "text/plain": [
       "<matplotlib.figure.Figure at 0x11b245f50>"
      ]
     },
     "metadata": {},
     "output_type": "display_data"
    }
   ],
   "source": [
    "plt.figure()\n",
    "lw = 2\n",
    "plt.plot(fpr_t, tpr_t, color='darkorange',\n",
    "         lw=lw, label='ROC curve RF(area = %0.2f)' % roc_auc_score_t)\n",
    "plt.plot([0, 1], [0, 1], color='navy', lw=lw, linestyle='--')\n",
    "plt.plot(fpr_l,tpr_l,color = 'cyan',\n",
    "         lw=lw, label='ROC curve LR(area = %0.2f)' % roc_auc_score_l)  ## How to add roc_auc_score?\n",
    "plt.xlim([-0.05, 1.0])\n",
    "plt.ylim([-0.05, 1.05])\n",
    "plt.xlabel('False Positive Rate')\n",
    "plt.ylabel('True Positive Rate')\n",
    "plt.title('Receiver operating characteristic for gut microbe with test data')\n",
    "plt.legend(loc=\"lower right\")\n",
    "plt.show()"
   ]
  },
  {
   "cell_type": "code",
   "execution_count": 266,
   "metadata": {
    "collapsed": false
   },
   "outputs": [
    {
     "name": "stdout",
     "output_type": "stream",
     "text": [
      "0.814814814815\n"
     ]
    }
   ],
   "source": [
    "acc = (y_bt == RF.predict(X2_bt))\n",
    "#RF.predict(X2_bt)\n",
    "print np.mean(acc)\n",
    "# 0.85"
   ]
  },
  {
   "cell_type": "code",
   "execution_count": 43,
   "metadata": {
    "collapsed": false
   },
   "outputs": [
    {
     "data": {
      "text/plain": [
       "['gut_app/fit_models/Random_Forest.pkl',\n",
       " 'gut_app/fit_models/Random_Forest.pkl_01.npy',\n",
       " 'gut_app/fit_models/Random_Forest.pkl_02.npy',\n",
       " 'gut_app/fit_models/Random_Forest.pkl_03.npy',\n",
       " 'gut_app/fit_models/Random_Forest.pkl_04.npy',\n",
       " 'gut_app/fit_models/Random_Forest.pkl_05.npy',\n",
       " 'gut_app/fit_models/Random_Forest.pkl_06.npy',\n",
       " 'gut_app/fit_models/Random_Forest.pkl_07.npy',\n",
       " 'gut_app/fit_models/Random_Forest.pkl_08.npy',\n",
       " 'gut_app/fit_models/Random_Forest.pkl_09.npy',\n",
       " 'gut_app/fit_models/Random_Forest.pkl_10.npy',\n",
       " 'gut_app/fit_models/Random_Forest.pkl_11.npy',\n",
       " 'gut_app/fit_models/Random_Forest.pkl_12.npy',\n",
       " 'gut_app/fit_models/Random_Forest.pkl_13.npy',\n",
       " 'gut_app/fit_models/Random_Forest.pkl_14.npy',\n",
       " 'gut_app/fit_models/Random_Forest.pkl_15.npy',\n",
       " 'gut_app/fit_models/Random_Forest.pkl_16.npy',\n",
       " 'gut_app/fit_models/Random_Forest.pkl_17.npy',\n",
       " 'gut_app/fit_models/Random_Forest.pkl_18.npy',\n",
       " 'gut_app/fit_models/Random_Forest.pkl_19.npy',\n",
       " 'gut_app/fit_models/Random_Forest.pkl_20.npy',\n",
       " 'gut_app/fit_models/Random_Forest.pkl_21.npy',\n",
       " 'gut_app/fit_models/Random_Forest.pkl_22.npy',\n",
       " 'gut_app/fit_models/Random_Forest.pkl_23.npy',\n",
       " 'gut_app/fit_models/Random_Forest.pkl_24.npy',\n",
       " 'gut_app/fit_models/Random_Forest.pkl_25.npy',\n",
       " 'gut_app/fit_models/Random_Forest.pkl_26.npy',\n",
       " 'gut_app/fit_models/Random_Forest.pkl_27.npy',\n",
       " 'gut_app/fit_models/Random_Forest.pkl_28.npy',\n",
       " 'gut_app/fit_models/Random_Forest.pkl_29.npy',\n",
       " 'gut_app/fit_models/Random_Forest.pkl_30.npy',\n",
       " 'gut_app/fit_models/Random_Forest.pkl_31.npy',\n",
       " 'gut_app/fit_models/Random_Forest.pkl_32.npy',\n",
       " 'gut_app/fit_models/Random_Forest.pkl_33.npy',\n",
       " 'gut_app/fit_models/Random_Forest.pkl_34.npy',\n",
       " 'gut_app/fit_models/Random_Forest.pkl_35.npy',\n",
       " 'gut_app/fit_models/Random_Forest.pkl_36.npy',\n",
       " 'gut_app/fit_models/Random_Forest.pkl_37.npy',\n",
       " 'gut_app/fit_models/Random_Forest.pkl_38.npy',\n",
       " 'gut_app/fit_models/Random_Forest.pkl_39.npy',\n",
       " 'gut_app/fit_models/Random_Forest.pkl_40.npy',\n",
       " 'gut_app/fit_models/Random_Forest.pkl_41.npy']"
      ]
     },
     "execution_count": 43,
     "metadata": {},
     "output_type": "execute_result"
    }
   ],
   "source": [
    "## Pickle the final model for web app \n",
    "\n",
    "joblib.dump(RF, 'gut_app/fit_models/Random_Forest.pkl')  #pickle related"
   ]
  },
  {
   "cell_type": "code",
   "execution_count": null,
   "metadata": {
    "collapsed": true
   },
   "outputs": [],
   "source": [
    "###RF=joblib.load('gut_app/fit_models/Random_Forest.pkl')"
   ]
  }
 ],
 "metadata": {
  "anaconda-cloud": {},
  "kernelspec": {
   "display_name": "Python [conda root]",
   "language": "python",
   "name": "conda-root-py"
  },
  "language_info": {
   "codemirror_mode": {
    "name": "ipython",
    "version": 2
   },
   "file_extension": ".py",
   "mimetype": "text/x-python",
   "name": "python",
   "nbconvert_exporter": "python",
   "pygments_lexer": "ipython2",
   "version": "2.7.12"
  }
 },
 "nbformat": 4,
 "nbformat_minor": 1
}
